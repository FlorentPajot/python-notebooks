{
 "cells": [
  {
   "cell_type": "markdown",
   "metadata": {},
   "source": [
    "<h1 align=\"center\">Kaggle Competition - Image Processing</h1>\n",
    "<img src=https://www.kaggle.com/content/v/4e5085eca1ab/kaggle/img/logos/kaggle-logo-transparent-300.png>"
   ]
  },
  {
   "cell_type": "raw",
   "metadata": {},
   "source": [
    "Author : Florent Pajot\n",
    "Data : 17 mai 2016\n",
    "version : 1.0\n",
    "Langage : Python 2.7\n",
    "Contenu : numpy, csv, sklearn\n",
    "    - Participation à une compétition de Data Science sur Kaggle\n",
    "    - Découvrir les bases du traitement d'image en Python\n",
    "Prérequis : "
   ]
  },
  {
   "cell_type": "raw",
   "metadata": {},
   "source": [
    "SOMMAIRE :\n",
    "    Partie I\n",
    "        a - Quelques bases Python\n",
    "        b - Introduction à la compétition Kaggle Digit Recognizer\n",
    "    Partie II\n",
    "        a - Méthodologie pour participer à une compétition Kaggle\n",
    "        b - Passage à la pratique : classification d'images\n",
    "    Partie III\n",
    "        a - Allons plus loin : Facial Keypoints Detection\n",
    "        b - Réseaux de neurones avec Keras"
   ]
  },
  {
   "cell_type": "markdown",
   "metadata": {},
   "source": [
    "# ** Part 1: **\n",
    "## **A - Quelques bases en Python**"
   ]
  },
  {
   "cell_type": "markdown",
   "metadata": {},
   "source": [
    "### ** Usage du notebook en Python **\n",
    "#### ** Quelques raccourcis sympas : **\n",
    "#### ** Ctrl + Entrer = executer la cellule **\n",
    "#### ** Maj + Entrer = executer la cellule et sélectionner la suivante **\n",
    "#### ** Sélectionner une cellule + B = créer une céllule à la suite **\n",
    "#### ** Sélectionner une cellule + D (2 fois) = supprimer la cellule sélectionnée (ATTENTION PAS RETOUR POSSIBLE) **"
   ]
  },
  {
   "cell_type": "markdown",
   "metadata": {},
   "source": [
    "### ** String, variable, import **"
   ]
  },
  {
   "cell_type": "code",
   "execution_count": null,
   "metadata": {
    "collapsed": true
   },
   "outputs": [],
   "source": [
    "# This is a Python cell. You can run normal Python code here...\n",
    "print 'The sum of 1 and 1 is {0}'.format(1+1)"
   ]
  },
  {
   "cell_type": "code",
   "execution_count": null,
   "metadata": {
    "collapsed": true
   },
   "outputs": [],
   "source": [
    "# Here is another Python cell, this time with a variable (x) declaration and an if statement:\n",
    "x = 42\n",
    "if x > 40:\n",
    "    print 'The sum of 1 and 2 is {0}'.format(1+2)"
   ]
  },
  {
   "cell_type": "code",
   "execution_count": null,
   "metadata": {
    "collapsed": true
   },
   "outputs": [],
   "source": [
    "# This cell relies on x being defined already.\n",
    "# If we didn't run the cells from part (1a) this code would fail.\n",
    "print x * 2"
   ]
  },
  {
   "cell_type": "code",
   "execution_count": null,
   "metadata": {
    "collapsed": true
   },
   "outputs": [],
   "source": [
    "# Import the regular expression library\n",
    "import re\n",
    "m = re.search('(?<=abc)def', 'abcdef')\n",
    "m.group(0)"
   ]
  },
  {
   "cell_type": "code",
   "execution_count": null,
   "metadata": {
    "collapsed": true
   },
   "outputs": [],
   "source": [
    "# Import the datetime library\n",
    "import datetime\n",
    "print 'This was last run on: {0}'.format(datetime.datetime.now())"
   ]
  },
  {
   "cell_type": "markdown",
   "metadata": {},
   "source": [
    "### ** Python List, Dict and Set **"
   ]
  },
  {
   "cell_type": "code",
   "execution_count": 64,
   "metadata": {
    "collapsed": false
   },
   "outputs": [
    {
     "name": "stdout",
     "output_type": "stream",
     "text": [
      "['a', 'b', 'c', 'b']\n",
      "{'a': 1, 'c': 44, 'b': '2'}\n",
      "set(['a', 'c', 'b'])\n"
     ]
    }
   ],
   "source": [
    "l = ['a', 'b', 'c', 'b']\n",
    "print l\n",
    "\n",
    "dic = {'a' : 1, 'b': \"2\", 'c' : 44}\n",
    "print dic\n",
    "\n",
    "s = set(l)\n",
    "print s"
   ]
  },
  {
   "cell_type": "code",
   "execution_count": 65,
   "metadata": {
    "collapsed": false
   },
   "outputs": [
    {
     "data": {
      "text/plain": [
       "True"
      ]
     },
     "execution_count": 65,
     "metadata": {},
     "output_type": "execute_result"
    }
   ],
   "source": [
    "#TODO check if letter \"c\" is in the set `s`\n",
    "\"c\" in s"
   ]
  },
  {
   "cell_type": "markdown",
   "metadata": {},
   "source": [
    "### ** Numpy **"
   ]
  },
  {
   "cell_type": "raw",
   "metadata": {},
   "source": [
    "Numpy est un outil très populaire en Python car il permet de manipuler plus efficacement des tableaux et matrices qu'avec le type \"liste\" standard de Python."
   ]
  },
  {
   "cell_type": "code",
   "execution_count": 73,
   "metadata": {
    "collapsed": false
   },
   "outputs": [
    {
     "name": "stdout",
     "output_type": "stream",
     "text": [
      "1.10.4\n"
     ]
    }
   ],
   "source": [
    "import numpy as np\n",
    "print np.__version__"
   ]
  },
  {
   "cell_type": "code",
   "execution_count": 69,
   "metadata": {
    "collapsed": false
   },
   "outputs": [
    {
     "data": {
      "text/plain": [
       "[0, 1, 2, 3, 4, 5, 6, 7, 8, 9]"
      ]
     },
     "execution_count": 69,
     "metadata": {},
     "output_type": "execute_result"
    }
   ],
   "source": [
    "# Create a list of integer from 0 to 9 in Python\n",
    "range(10)"
   ]
  },
  {
   "cell_type": "code",
   "execution_count": 70,
   "metadata": {
    "collapsed": false
   },
   "outputs": [
    {
     "data": {
      "text/plain": [
       "array([0, 1, 2, 3, 4, 5, 6, 7, 8, 9])"
      ]
     },
     "execution_count": 70,
     "metadata": {},
     "output_type": "execute_result"
    }
   ],
   "source": [
    "# with Numpy\n",
    "np.arange(10)"
   ]
  },
  {
   "cell_type": "code",
   "execution_count": 71,
   "metadata": {
    "collapsed": true
   },
   "outputs": [],
   "source": [
    "npa = np.arange(10)\n",
    "?npa"
   ]
  },
  {
   "cell_type": "code",
   "execution_count": 72,
   "metadata": {
    "collapsed": false
   },
   "outputs": [
    {
     "name": "stdout",
     "output_type": "stream",
     "text": [
      "(10,)\n"
     ]
    }
   ],
   "source": [
    "# test the shape\n",
    "print np.shape(npa)"
   ]
  },
  {
   "cell_type": "raw",
   "metadata": {},
   "source": [
    "Il est notamment plus simple d'accéder à des méthodes de base comme des fonction de description statistiques"
   ]
  },
  {
   "cell_type": "code",
   "execution_count": null,
   "metadata": {
    "collapsed": true
   },
   "outputs": [],
   "source": [
    "npa.mean()"
   ]
  },
  {
   "cell_type": "code",
   "execution_count": null,
   "metadata": {
    "collapsed": true
   },
   "outputs": [],
   "source": [
    "npa.sum()"
   ]
  },
  {
   "cell_type": "code",
   "execution_count": null,
   "metadata": {
    "collapsed": true
   },
   "outputs": [],
   "source": [
    "npa.max()"
   ]
  },
  {
   "cell_type": "raw",
   "metadata": {},
   "source": [
    "Et on peut manipuler les matrices numpy comme des listes classiques en Python"
   ]
  },
  {
   "cell_type": "code",
   "execution_count": null,
   "metadata": {
    "collapsed": true
   },
   "outputs": [],
   "source": [
    "[x * x for x in npa]"
   ]
  },
  {
   "cell_type": "raw",
   "metadata": {},
   "source": [
    "D'autres outils bien pratiques"
   ]
  },
  {
   "cell_type": "code",
   "execution_count": null,
   "metadata": {
    "collapsed": true
   },
   "outputs": [],
   "source": [
    "# boolean test\n",
    "npa % 2 == 0"
   ]
  },
  {
   "cell_type": "code",
   "execution_count": null,
   "metadata": {
    "collapsed": true
   },
   "outputs": [],
   "source": [
    "# boolean filter\n",
    "npa[npa % 2 == 0]"
   ]
  },
  {
   "cell_type": "code",
   "execution_count": null,
   "metadata": {
    "collapsed": true
   },
   "outputs": [],
   "source": [
    "# with a substancial gain in performance\n",
    "np2 = np.arange(20000)"
   ]
  },
  {
   "cell_type": "code",
   "execution_count": null,
   "metadata": {
    "collapsed": true
   },
   "outputs": [],
   "source": [
    "%timeit [x for x in np2 if x % 2 == 0]"
   ]
  },
  {
   "cell_type": "code",
   "execution_count": null,
   "metadata": {
    "collapsed": true
   },
   "outputs": [],
   "source": [
    "%timeit np2[np2 % 2 == 0]"
   ]
  },
  {
   "cell_type": "markdown",
   "metadata": {},
   "source": [
    "# ** Part 1: **\n",
    "## **B - Introduction à la compétition Kaggle Digit Recognizer**"
   ]
  },
  {
   "cell_type": "markdown",
   "metadata": {},
   "source": [
    "### ** Parcours du board de la compétition **"
   ]
  },
  {
   "cell_type": "markdown",
   "metadata": {},
   "source": [
    "# ** Part 2: **\n",
    "## **A - Méthodologie pour participer à une compétition Kaggle**"
   ]
  },
  {
   "cell_type": "markdown",
   "metadata": {},
   "source": [
    "### ** Slides sur la compétition Kaggle **"
   ]
  },
  {
   "cell_type": "markdown",
   "metadata": {},
   "source": [
    "# ** Part 2: **\n",
    "## **B - Passage à la pratique : classification d'images**"
   ]
  },
  {
   "cell_type": "code",
   "execution_count": 1,
   "metadata": {
    "collapsed": false
   },
   "outputs": [
    {
     "name": "stdout",
     "output_type": "stream",
     "text": [
      "2.7.10 |Anaconda 2.5.0 (x86_64)| (default, Oct 19 2015, 18:31:17) \n",
      "[GCC 4.2.1 (Apple Inc. build 5577)]\n"
     ]
    }
   ],
   "source": [
    "import os\n",
    "import sys\n",
    "print sys.version\n",
    "import numpy as np"
   ]
  },
  {
   "cell_type": "code",
   "execution_count": 2,
   "metadata": {
    "collapsed": true
   },
   "outputs": [],
   "source": [
    "from sklearn import svm, metrics\n",
    "from matplotlib import pyplot as plt\n",
    "%matplotlib inline"
   ]
  },
  {
   "cell_type": "markdown",
   "metadata": {},
   "source": [
    "### **Etape 1 - Importer, explorer et préparer la donnée**"
   ]
  },
  {
   "cell_type": "code",
   "execution_count": 3,
   "metadata": {
    "collapsed": false
   },
   "outputs": [
    {
     "name": "stdout",
     "output_type": "stream",
     "text": [
      "/Users/florentpajot/Code/Python-TDS/data/digit-recognizer/\n"
     ]
    }
   ],
   "source": [
    "### Define data path\n",
    "base_path = os.getcwd()\n",
    "digit_recognizer_path = os.path.join(base_path, 'data/digit-recognizer/')\n",
    "print digit_recognizer_path"
   ]
  },
  {
   "cell_type": "code",
   "execution_count": 4,
   "metadata": {
    "collapsed": false
   },
   "outputs": [],
   "source": [
    "### Import data\n",
    "import csv\n",
    "# train set\n",
    "train_file = os.path.join(digit_recognizer_path, 'train.csv')\n",
    "train_set = np.recfromcsv(train_file, delimiter=',', skip_header=0, dtype=int, filling_values=np.nan, case_sensitive=True, deletechars='', replace_space=' ')\n",
    "# test set\n",
    "test_file = os.path.join(digit_recognizer_path, 'test.csv')\n",
    "test_set = np.recfromcsv(test_file, delimiter=',', skip_header=0, dtype=int, filling_values=np.nan, case_sensitive=True, deletechars='', replace_space=' ')"
   ]
  },
  {
   "cell_type": "code",
   "execution_count": 5,
   "metadata": {
    "collapsed": false
   },
   "outputs": [
    {
     "name": "stdout",
     "output_type": "stream",
     "text": [
      "Variable                Type        Data/Info\n",
      "---------------------------------------------\n",
      "base_path               str         /Users/florentpajot/Code/Python-TDS\n",
      "csv                     module      <module 'csv' from '/User<...>a/lib/python2.7/csv.pyc'>\n",
      "digit_recognizer_path   str         /Users/florentpajot/Code/<...>DS/data/digit-recognizer/\n",
      "metrics                 module      <module 'sklearn.metrics'<...>rn/metrics/__init__.pyc'>\n",
      "np                      module      <module 'numpy' from '/Us<...>ages/numpy/__init__.pyc'>\n",
      "os                      module      <module 'os' from '/Users<...>da/lib/python2.7/os.pyc'>\n",
      "plt                     module      <module 'matplotlib.pyplo<...>s/matplotlib/pyplot.pyc'>\n",
      "svm                     module      <module 'sklearn.svm' fro<...>klearn/svm/__init__.pyc'>\n",
      "sys                     module      <module 'sys' (built-in)>\n",
      "test_file               str         /Users/florentpajot/Code/<...>digit-recognizer/test.csv\n",
      "test_set                recarray    [ (0, 0, 0, 0, 0, 0, 0, 0<...> 0, 0, 0, 0, 0, 0, 0, 0)]\n",
      "train_file              str         /Users/florentpajot/Code/<...>igit-recognizer/train.csv\n",
      "train_set               recarray    [ (1, 0, 0, 0, 0, 0, 0, 0<...> 0, 0, 0, 0, 0, 0, 0, 0)]\n"
     ]
    }
   ],
   "source": [
    "whos"
   ]
  },
  {
   "cell_type": "code",
   "execution_count": 29,
   "metadata": {
    "collapsed": false
   },
   "outputs": [
    {
     "data": {
      "text/plain": [
       "(1, 0, 0, 0, 0, 0, 0, 0, 0, 0, 0, 0, 0, 0, 0, 0, 0, 0, 0, 0, 0, 0, 0, 0, 0, 0, 0, 0, 0, 0, 0, 0, 0, 0, 0, 0, 0, 0, 0, 0, 0, 0, 0, 0, 0, 0, 0, 0, 0, 0, 0, 0, 0, 0, 0, 0, 0, 0, 0, 0, 0, 0, 0, 0, 0, 0, 0, 0, 0, 0, 0, 0, 0, 0, 0, 0, 0, 0, 0, 0, 0, 0, 0, 0, 0, 0, 0, 0, 0, 0, 0, 0, 0, 0, 0, 0, 0, 0, 0, 0, 0, 0, 0, 0, 0, 0, 0, 0, 0, 0, 0, 0, 0, 0, 0, 0, 0, 0, 0, 0, 0, 0, 0, 0, 0, 0, 0, 0, 0, 0, 0, 0, 0, 188, 255, 94, 0, 0, 0, 0, 0, 0, 0, 0, 0, 0, 0, 0, 0, 0, 0, 0, 0, 0, 0, 0, 0, 0, 0, 0, 191, 250, 253, 93, 0, 0, 0, 0, 0, 0, 0, 0, 0, 0, 0, 0, 0, 0, 0, 0, 0, 0, 0, 0, 0, 0, 0, 123, 248, 253, 167, 10, 0, 0, 0, 0, 0, 0, 0, 0, 0, 0, 0, 0, 0, 0, 0, 0, 0, 0, 0, 0, 0, 0, 80, 247, 253, 208, 13, 0, 0, 0, 0, 0, 0, 0, 0, 0, 0, 0, 0, 0, 0, 0, 0, 0, 0, 0, 0, 0, 0, 29, 207, 253, 235, 77, 0, 0, 0, 0, 0, 0, 0, 0, 0, 0, 0, 0, 0, 0, 0, 0, 0, 0, 0, 0, 0, 0, 54, 209, 253, 253, 88, 0, 0, 0, 0, 0, 0, 0, 0, 0, 0, 0, 0, 0, 0, 0, 0, 0, 0, 0, 0, 0, 0, 93, 254, 253, 238, 170, 17, 0, 0, 0, 0, 0, 0, 0, 0, 0, 0, 0, 0, 0, 0, 0, 0, 0, 0, 0, 0, 0, 23, 210, 254, 253, 159, 0, 0, 0, 0, 0, 0, 0, 0, 0, 0, 0, 0, 0, 0, 0, 0, 0, 0, 0, 0, 0, 0, 16, 209, 253, 254, 240, 81, 0, 0, 0, 0, 0, 0, 0, 0, 0, 0, 0, 0, 0, 0, 0, 0, 0, 0, 0, 0, 0, 0, 27, 253, 253, 254, 13, 0, 0, 0, 0, 0, 0, 0, 0, 0, 0, 0, 0, 0, 0, 0, 0, 0, 0, 0, 0, 0, 0, 20, 206, 254, 254, 198, 7, 0, 0, 0, 0, 0, 0, 0, 0, 0, 0, 0, 0, 0, 0, 0, 0, 0, 0, 0, 0, 0, 0, 168, 253, 253, 196, 7, 0, 0, 0, 0, 0, 0, 0, 0, 0, 0, 0, 0, 0, 0, 0, 0, 0, 0, 0, 0, 0, 0, 20, 203, 253, 248, 76, 0, 0, 0, 0, 0, 0, 0, 0, 0, 0, 0, 0, 0, 0, 0, 0, 0, 0, 0, 0, 0, 0, 22, 188, 253, 245, 93, 0, 0, 0, 0, 0, 0, 0, 0, 0, 0, 0, 0, 0, 0, 0, 0, 0, 0, 0, 0, 0, 0, 0, 103, 253, 253, 191, 0, 0, 0, 0, 0, 0, 0, 0, 0, 0, 0, 0, 0, 0, 0, 0, 0, 0, 0, 0, 0, 0, 0, 89, 240, 253, 195, 25, 0, 0, 0, 0, 0, 0, 0, 0, 0, 0, 0, 0, 0, 0, 0, 0, 0, 0, 0, 0, 0, 0, 15, 220, 253, 253, 80, 0, 0, 0, 0, 0, 0, 0, 0, 0, 0, 0, 0, 0, 0, 0, 0, 0, 0, 0, 0, 0, 0, 0, 94, 253, 253, 253, 94, 0, 0, 0, 0, 0, 0, 0, 0, 0, 0, 0, 0, 0, 0, 0, 0, 0, 0, 0, 0, 0, 0, 0, 89, 251, 253, 250, 131, 0, 0, 0, 0, 0, 0, 0, 0, 0, 0, 0, 0, 0, 0, 0, 0, 0, 0, 0, 0, 0, 0, 0, 0, 214, 218, 95, 0, 0, 0, 0, 0, 0, 0, 0, 0, 0, 0, 0, 0, 0, 0, 0, 0, 0, 0, 0, 0, 0, 0, 0, 0, 0, 0, 0, 0, 0, 0, 0, 0, 0, 0, 0, 0, 0, 0, 0, 0, 0, 0, 0, 0, 0, 0, 0, 0, 0, 0, 0, 0, 0, 0, 0, 0, 0, 0, 0, 0, 0, 0, 0, 0, 0, 0, 0, 0, 0, 0, 0, 0, 0, 0, 0, 0, 0, 0, 0, 0, 0, 0, 0, 0, 0, 0, 0, 0, 0, 0, 0, 0, 0, 0, 0, 0, 0, 0, 0, 0, 0, 0, 0, 0, 0, 0, 0, 0, 0, 0, 0, 0, 0, 0, 0, 0, 0, 0, 0, 0, 0, 0, 0, 0, 0, 0, 0, 0)"
      ]
     },
     "execution_count": 29,
     "metadata": {},
     "output_type": "execute_result"
    }
   ],
   "source": [
    "#TODO afficher le premier élément de mon jeu de données\n",
    "train_set[0] # On voit que chaque élément de mon tableau est un tuple"
   ]
  },
  {
   "cell_type": "code",
   "execution_count": 30,
   "metadata": {
    "collapsed": false
   },
   "outputs": [
    {
     "name": "stdout",
     "output_type": "stream",
     "text": [
      "<class 'numpy.record'>\n",
      "(42000,)\n"
     ]
    }
   ],
   "source": [
    "#TODO afficher la taille de mon train set\n",
    "print type(train_set[0])\n",
    "print np.shape(train_set)"
   ]
  },
  {
   "cell_type": "code",
   "execution_count": 31,
   "metadata": {
    "collapsed": false
   },
   "outputs": [
    {
     "name": "stdout",
     "output_type": "stream",
     "text": [
      "Le fichier d'entrainement contient 42000 lignes\n"
     ]
    }
   ],
   "source": [
    "print \"Le fichier d'entrainement contient {} lignes\".format(len(train_set))"
   ]
  },
  {
   "cell_type": "code",
   "execution_count": 6,
   "metadata": {
    "collapsed": true
   },
   "outputs": [],
   "source": [
    "# J'aimeras ne manipuler que des tableaux (donc avoir un tableau de tableau = matrice)\n",
    "train_set = [np.array(record.tolist()) for record in train_set]\n",
    "test_set = [np.array(record.tolist()) for record in test_set]"
   ]
  },
  {
   "cell_type": "code",
   "execution_count": 85,
   "metadata": {
    "collapsed": false
   },
   "outputs": [
    {
     "name": "stdout",
     "output_type": "stream",
     "text": [
      "<type 'numpy.ndarray'>\n"
     ]
    }
   ],
   "source": [
    "print type(train_set[0])"
   ]
  },
  {
   "cell_type": "code",
   "execution_count": 86,
   "metadata": {
    "collapsed": false
   },
   "outputs": [
    {
     "name": "stdout",
     "output_type": "stream",
     "text": [
      "(42000, 785)\n"
     ]
    }
   ],
   "source": [
    "print np.shape(train_set)"
   ]
  },
  {
   "cell_type": "code",
   "execution_count": 55,
   "metadata": {
    "collapsed": true
   },
   "outputs": [],
   "source": [
    "# On souhaite manipuler une matrice de 42000 par 784 \n",
    "#m = len(train_set)\n",
    "#train_set = np.array(train_set).reshape(m, -1)"
   ]
  },
  {
   "cell_type": "code",
   "execution_count": 81,
   "metadata": {
    "collapsed": false
   },
   "outputs": [
    {
     "data": {
      "text/plain": [
       "(42000, 782)"
      ]
     },
     "execution_count": 81,
     "metadata": {},
     "output_type": "execute_result"
    }
   ],
   "source": [
    "#np.shape(train_set) # Ah, on a une matrice de 42000 par 785, donc une valeur en trop..."
   ]
  },
  {
   "cell_type": "code",
   "execution_count": 87,
   "metadata": {
    "collapsed": false
   },
   "outputs": [
    {
     "data": {
      "text/plain": [
       "array([  1,   0,   0,   0,   0,   0,   0,   0,   0,   0,   0,   0,   0,\n",
       "         0,   0,   0,   0,   0,   0,   0,   0,   0,   0,   0,   0,   0,\n",
       "         0,   0,   0,   0,   0,   0,   0,   0,   0,   0,   0,   0,   0,\n",
       "         0,   0,   0,   0,   0,   0,   0,   0,   0,   0,   0,   0,   0,\n",
       "         0,   0,   0,   0,   0,   0,   0,   0,   0,   0,   0,   0,   0,\n",
       "         0,   0,   0,   0,   0,   0,   0,   0,   0,   0,   0,   0,   0,\n",
       "         0,   0,   0,   0,   0,   0,   0,   0,   0,   0,   0,   0,   0,\n",
       "         0,   0,   0,   0,   0,   0,   0,   0,   0,   0,   0,   0,   0,\n",
       "         0,   0,   0,   0,   0,   0,   0,   0,   0,   0,   0,   0,   0,\n",
       "         0,   0,   0,   0,   0,   0,   0,   0,   0,   0,   0,   0,   0,\n",
       "         0,   0,   0, 188, 255,  94,   0,   0,   0,   0,   0,   0,   0,\n",
       "         0,   0,   0,   0,   0,   0,   0,   0,   0,   0,   0,   0,   0,\n",
       "         0,   0,   0,   0, 191, 250, 253,  93,   0,   0,   0,   0,   0,\n",
       "         0,   0,   0,   0,   0,   0,   0,   0,   0,   0,   0,   0,   0,\n",
       "         0,   0,   0,   0,   0, 123, 248, 253, 167,  10,   0,   0,   0,\n",
       "         0,   0,   0,   0,   0,   0,   0,   0,   0,   0,   0,   0,   0,\n",
       "         0,   0,   0,   0,   0,   0,  80, 247, 253, 208,  13,   0,   0,\n",
       "         0,   0,   0,   0,   0,   0,   0,   0,   0,   0,   0,   0,   0,\n",
       "         0,   0,   0,   0,   0,   0,   0,  29, 207, 253, 235,  77,   0,\n",
       "         0,   0,   0,   0,   0,   0,   0,   0,   0,   0,   0,   0,   0,\n",
       "         0,   0,   0,   0,   0,   0,   0,   0,  54, 209, 253, 253,  88,\n",
       "         0,   0,   0,   0,   0,   0,   0,   0,   0,   0,   0,   0,   0,\n",
       "         0,   0,   0,   0,   0,   0,   0,   0,   0,  93, 254, 253, 238,\n",
       "       170,  17,   0,   0,   0,   0,   0,   0,   0,   0,   0,   0,   0,\n",
       "         0,   0,   0,   0,   0,   0,   0,   0,   0,   0,  23, 210, 254,\n",
       "       253, 159,   0,   0,   0,   0,   0,   0,   0,   0,   0,   0,   0,\n",
       "         0,   0,   0,   0,   0,   0,   0,   0,   0,   0,   0,  16, 209,\n",
       "       253, 254, 240,  81,   0,   0,   0,   0,   0,   0,   0,   0,   0,\n",
       "         0,   0,   0,   0,   0,   0,   0,   0,   0,   0,   0,   0,   0,\n",
       "        27, 253, 253, 254,  13,   0,   0,   0,   0,   0,   0,   0,   0,\n",
       "         0,   0,   0,   0,   0,   0,   0,   0,   0,   0,   0,   0,   0,\n",
       "         0,  20, 206, 254, 254, 198,   7,   0,   0,   0,   0,   0,   0,\n",
       "         0,   0,   0,   0,   0,   0,   0,   0,   0,   0,   0,   0,   0,\n",
       "         0,   0,   0, 168, 253, 253, 196,   7,   0,   0,   0,   0,   0,\n",
       "         0,   0,   0,   0,   0,   0,   0,   0,   0,   0,   0,   0,   0,\n",
       "         0,   0,   0,   0,  20, 203, 253, 248,  76,   0,   0,   0,   0,\n",
       "         0,   0,   0,   0,   0,   0,   0,   0,   0,   0,   0,   0,   0,\n",
       "         0,   0,   0,   0,   0,  22, 188, 253, 245,  93,   0,   0,   0,\n",
       "         0,   0,   0,   0,   0,   0,   0,   0,   0,   0,   0,   0,   0,\n",
       "         0,   0,   0,   0,   0,   0,   0, 103, 253, 253, 191,   0,   0,\n",
       "         0,   0,   0,   0,   0,   0,   0,   0,   0,   0,   0,   0,   0,\n",
       "         0,   0,   0,   0,   0,   0,   0,   0,  89, 240, 253, 195,  25,\n",
       "         0,   0,   0,   0,   0,   0,   0,   0,   0,   0,   0,   0,   0,\n",
       "         0,   0,   0,   0,   0,   0,   0,   0,   0,  15, 220, 253, 253,\n",
       "        80,   0,   0,   0,   0,   0,   0,   0,   0,   0,   0,   0,   0,\n",
       "         0,   0,   0,   0,   0,   0,   0,   0,   0,   0,   0,  94, 253,\n",
       "       253, 253,  94,   0,   0,   0,   0,   0,   0,   0,   0,   0,   0,\n",
       "         0,   0,   0,   0,   0,   0,   0,   0,   0,   0,   0,   0,   0,\n",
       "        89, 251, 253, 250, 131,   0,   0,   0,   0,   0,   0,   0,   0,\n",
       "         0,   0,   0,   0,   0,   0,   0,   0,   0,   0,   0,   0,   0,\n",
       "         0,   0,   0, 214, 218,  95,   0,   0,   0,   0,   0,   0,   0,\n",
       "         0,   0,   0,   0,   0,   0,   0,   0,   0,   0,   0,   0,   0,\n",
       "         0,   0,   0,   0,   0,   0,   0,   0,   0,   0,   0,   0,   0,\n",
       "         0,   0,   0,   0,   0,   0,   0,   0,   0,   0,   0,   0,   0,\n",
       "         0,   0,   0,   0,   0,   0,   0,   0,   0,   0,   0,   0,   0,\n",
       "         0,   0,   0,   0,   0,   0,   0,   0,   0,   0,   0,   0,   0,\n",
       "         0,   0,   0,   0,   0,   0,   0,   0,   0,   0,   0,   0,   0,\n",
       "         0,   0,   0,   0,   0,   0,   0,   0,   0,   0,   0,   0,   0,\n",
       "         0,   0,   0,   0,   0,   0,   0,   0,   0,   0,   0,   0,   0,\n",
       "         0,   0,   0,   0,   0,   0,   0,   0,   0,   0,   0,   0,   0,\n",
       "         0,   0,   0,   0,   0])"
      ]
     },
     "execution_count": 87,
     "metadata": {},
     "output_type": "execute_result"
    }
   ],
   "source": [
    "train_set[0] # la première valeur est un 1, d'où vient-il ?"
   ]
  },
  {
   "cell_type": "code",
   "execution_count": 51,
   "metadata": {
    "collapsed": false
   },
   "outputs": [
    {
     "data": {
      "text/plain": [
       "array([1, 0, 1, 4, 0, 0, 7, 3, 5, 3, 8, 9, 1, 3, 3, 1, 2, 0, 7, 5])"
      ]
     },
     "execution_count": 51,
     "metadata": {},
     "output_type": "execute_result"
    }
   ],
   "source": [
    "train_set[range(20),0] # on s'aperçoit que ce sont des valeurs entre 0 et 9\n",
    "# Un petit tour dans la doc de la compétition nous permet de voir que ces entiers sont les labels de chaque image"
   ]
  },
  {
   "cell_type": "code",
   "execution_count": 7,
   "metadata": {
    "collapsed": false
   },
   "outputs": [
    {
     "name": "stdout",
     "output_type": "stream",
     "text": [
      "(42000, 784)\n",
      "(42000,)\n"
     ]
    }
   ],
   "source": [
    "# On extrait les labels\n",
    "labels = [record[0] for record in train_set]\n",
    "train_set = [record[1:] for record in train_set]\n",
    "print np.shape(train_set)\n",
    "print np.shape(labels)"
   ]
  },
  {
   "cell_type": "code",
   "execution_count": 8,
   "metadata": {
    "collapsed": false
   },
   "outputs": [
    {
     "data": {
      "text/plain": [
       "<matplotlib.image.AxesImage at 0x110e9f190>"
      ]
     },
     "execution_count": 8,
     "metadata": {},
     "output_type": "execute_result"
    },
    {
     "data": {
      "image/png": "[encoded data removed]",
      "text/plain": [
       "<matplotlib.figure.Figure at 0x110e9f210>"
      ]
     },
     "metadata": {},
     "output_type": "display_data"
    }
   ],
   "source": [
    "# On visualize notre train_set\n",
    "plt.axis('off')\n",
    "plt.imshow(train_set[10].reshape(28,28), cmap=plt.cm.gray_r, interpolation='nearest')"
   ]
  },
  {
   "cell_type": "code",
   "execution_count": 101,
   "metadata": {
    "collapsed": false,
    "scrolled": true
   },
   "outputs": [
    {
     "data": {
      "image/png": "[encoded data removed]",
      "text/plain": [
       "<matplotlib.figure.Figure at 0x128da5b10>"
      ]
     },
     "metadata": {},
     "output_type": "display_data"
    }
   ],
   "source": [
    "# On peut aussi afficher plusieurs images\n",
    "f, axes = plt.subplots(4,4, figsize=(10,10))\n",
    "for i in range(4):\n",
    "    for j in range(4):\n",
    "        axes[i, j].imshow(train_set[4*i+j].reshape(28,28), cmap=plt.cm.gray_r, interpolation='nearest')\n",
    "        axes[i, j].axis('off')\n",
    "        axes[i, j].set_title(\"{}\".format(labels[4*i+j]))\n",
    "        axes[i, j].xticks = ()\n",
    "        axes[i, j].yticks = ()\n",
    "\n",
    "# Vu ce qu'on obtient on est certain d'avoir convenablement construit notre jeu d'entraintement et nos labels"
   ]
  },
  {
   "cell_type": "markdown",
   "metadata": {},
   "source": [
    "### **Etape 2 - Pré-traitement de la donnée**"
   ]
  },
  {
   "cell_type": "raw",
   "metadata": {},
   "source": [
    "En fonction des algorithmes que l'on prévoit d'utiliser, mais aussi de la donnée que l'on manipule,\n",
    "il est bon d'effectuer un pré-traitement des données.\n",
    "Ce pré-traitement peut répondre à plusieurs objectifs parmi lesquels :\n",
    "- prévenir un disfonctionnement de notre modèle de machine learning (ex: k-means)\n",
    "- optimiser l'apprentissage d'un modèle (ex: learning rate ou réseaux de neurones)\n",
    "- enrichir le set de données dans le cas où notre modèle a un biais important"
   ]
  },
  {
   "cell_type": "code",
   "execution_count": 9,
   "metadata": {
    "collapsed": true
   },
   "outputs": [],
   "source": [
    "# Ici, nous allons centrer et réduire les données afin d'éviter les problèmes par la suite\n",
    "from sklearn.preprocessing import StandardScaler\n",
    "scaler = StandardScaler()\n",
    "# Montrer fit(), transform(), fit_transform() et les appliquer\n",
    "scaled_train_set = scaler.fit_transform(train_set)\n",
    "scaled_test_set = scaler.transform(test_set)"
   ]
  },
  {
   "cell_type": "markdown",
   "metadata": {},
   "source": [
    "### **Etape 3 - Construction d'un set de validation croisée**"
   ]
  },
  {
   "cell_type": "raw",
   "metadata": {},
   "source": [
    "Dans une compétition Kaggle, on cherche à se positionner sur le Public Leaderboard, autrement dit sur le classement publique de la compétition qui est rafraichit en quasi temps réel.\n",
    "\n",
    "Le score affiché sur le Public Leaderboard représente la performance de notre modèle quand il est testé sur le \"test set\". Plus précisément, cette performance est évaluée sur un pourcentage restreint des données contenues dans le test set.\n",
    "\n",
    "Par exemple, si votre test set fait 10 000 lignes, votre score du Public Leaderboard sera évalué sur seulement 3000 lignes du test set (toujours les mêmes quelque soit la soumission).\n",
    "\n",
    "C'est seulement à la fin de la compétition, lors des validations finales, que votre modèle sera évalué sur l'intégralité du test set. D'où l'importance de créer un modèle capable de bien se généraliser lorsqu'il est confronté à de nouvelles données.\n",
    "\n",
    "C'est dans cet objectif que l'on construit un set de validation croisée. Celui-ci va nous permettre de vérifier que notre modèle se généralise bien."
   ]
  },
  {
   "cell_type": "code",
   "execution_count": 10,
   "metadata": {
    "collapsed": false
   },
   "outputs": [
    {
     "name": "stdout",
     "output_type": "stream",
     "text": [
      "(28293, 784)\n",
      "(28293,)\n",
      "(13707, 784)\n",
      "(13707,)\n"
     ]
    }
   ],
   "source": [
    "# Ici, nous allons utiliser la méthode la plus simple, celle du \"validation set\"\n",
    "import math, random\n",
    "\n",
    "def split_data(data, prob):\n",
    "    \"\"\"split data into fractions [prob, 1 - prob]\"\"\"\n",
    "    results = [], []\n",
    "    for row in data:\n",
    "        results[0 if random.random() < prob else 1].append(row)\n",
    "    return results\n",
    "\n",
    "def train_val_split(x, y, val_pct):\n",
    "    \"\"\"split data and corresponding labels into fractions [prob, 1 - prob]\"\"\"\n",
    "    data = zip(x, y)                              \n",
    "    train, val = split_data(data, 1 - val_pct)  \n",
    "    x_train, y_train = zip(*train)                # magical un-zip trick\n",
    "    x_val, y_val = zip(*val)\n",
    "    return x_train, x_val, y_train, y_val\n",
    "\n",
    "# On utilise les fonctions précédentes pour séparer le train set en 2 sets\n",
    "x_train, x_val, y_train, y_val = train_val_split(scaled_train_set, labels, val_pct = 0.33) #on prend 1/3\n",
    "print np.shape(x_train)\n",
    "print np.shape(y_train)\n",
    "print np.shape(x_val)\n",
    "print np.shape(y_val)"
   ]
  },
  {
   "cell_type": "raw",
   "metadata": {},
   "source": [
    "A noter que sklearn propose des librairies spécifiques pour créer un set de cross validation avec plusieurs techhniques : sklearn.cross_validation.StratifiedShuffleSplit ou sklearn.cross_validation.cross_validation.KFold"
   ]
  },
  {
   "cell_type": "markdown",
   "metadata": {},
   "source": [
    "### **Etape 4 - Construction d'un modèle de référence**"
   ]
  },
  {
   "cell_type": "code",
   "execution_count": 137,
   "metadata": {
    "collapsed": true
   },
   "outputs": [],
   "source": [
    "# Nous allons construire un modèle de type Random Forest qui nous servira de référence\n",
    "from sklearn.ensemble import RandomForestClassifier\n",
    "n_tree = 50\n",
    "model_rf_1 = RandomForestClassifier(n_estimators=n_tree, n_jobs=-1)\n",
    "# on ignore volontairement les autres paramètres que l'on pourrait spécifier (min_samples_leaf par exemple)\n",
    "\n",
    "# On va d'abord l'appliquer aux données d'entrainement pour voir ce que ça donne\n",
    "model_rf_1.fit(x_train, y_train)\n",
    "#TODO, utiliser le modèle pour déterminer le labels du test set\n",
    "results_rf_1 = model_rf.predict(scaled_test_set) #je check au préalable si je veux obtenir une proba ou une classe en fonction des règles de la compétition"
   ]
  },
  {
   "cell_type": "code",
   "execution_count": 111,
   "metadata": {
    "collapsed": false
   },
   "outputs": [
    {
     "name": "stdout",
     "output_type": "stream",
     "text": [
      "[2 0 9 4 3 7 0 3 0 3]\n",
      "(28000,)\n"
     ]
    }
   ],
   "source": [
    "#TODO, afficher les 10 premiers résultats\n",
    "print results_rf_1[0:10]\n",
    "print np.shape(results_rf_1)"
   ]
  },
  {
   "cell_type": "markdown",
   "metadata": {},
   "source": [
    "### **Etape 5 - Faire sa première soumission**"
   ]
  },
  {
   "cell_type": "code",
   "execution_count": 11,
   "metadata": {
    "collapsed": false
   },
   "outputs": [],
   "source": [
    "# Pour gagner du temps par la suite, il est utile de construire une fonction qui permettra\n",
    "# d'écrire les résultats obtenus dans un fichier de soumission dans le format imposé\n",
    "def create_submission(submission_name, predictions):\n",
    "    file_name = submission_name + \".csv\"\n",
    "    with open(file_name, 'wb') as csvfile:\n",
    "        try:\n",
    "            writer = csv.writer(csvfile, delimiter=',', quotechar='|')\n",
    "            writer.writerow((\"ImageId\", \"Label\"))\n",
    "            for index, value in enumerate(predictions):\n",
    "                writer.writerow((index+1, value))\n",
    "        except:\n",
    "            print \"1 erreure rencontrer lors de l'écriture. Le fichier de soumission est invalide\"\n",
    "            pass\n",
    "    csvfile.close()\n",
    "# ATTENTION, le format de sortie est spécifique à la compétition Digit Recognizer"
   ]
  },
  {
   "cell_type": "code",
   "execution_count": 133,
   "metadata": {
    "collapsed": false
   },
   "outputs": [],
   "source": [
    "#TODO, créez votre première soumission\n",
    "create_submission(\"rf_1\", results_rf_1)"
   ]
  },
  {
   "cell_type": "markdown",
   "metadata": {},
   "source": [
    "### **Etape 6 - Evaluer son modèle**"
   ]
  },
  {
   "cell_type": "code",
   "execution_count": 144,
   "metadata": {
    "collapsed": false
   },
   "outputs": [],
   "source": [
    "# Nous allons utiliser le set de validation croisée de tout à l'heure\n",
    "# TODO, utiliser le modèle pour déterminer les labels du set de validation x_val\n",
    "predictions_rf_1 = model_rf_1.predict(x_val)"
   ]
  },
  {
   "cell_type": "code",
   "execution_count": 145,
   "metadata": {
    "collapsed": false
   },
   "outputs": [
    {
     "name": "stdout",
     "output_type": "stream",
     "text": [
      "Rapport de classification pour le modèle RandomForestClassifier(bootstrap=True, class_weight=None, criterion='gini',\n",
      "            max_depth=None, max_features='auto', max_leaf_nodes=None,\n",
      "            min_samples_leaf=1, min_samples_split=2,\n",
      "            min_weight_fraction_leaf=0.0, n_estimators=50, n_jobs=1,\n",
      "            oob_score=False, random_state=None, verbose=0,\n",
      "            warm_start=False):\n",
      "             precision    recall  f1-score   support\n",
      "\n",
      "          0       0.96      0.99      0.97      1342\n",
      "          1       0.98      0.99      0.98      1534\n",
      "          2       0.94      0.96      0.95      1357\n",
      "          3       0.95      0.94      0.94      1446\n",
      "          4       0.96      0.96      0.96      1450\n",
      "          5       0.96      0.94      0.95      1288\n",
      "          6       0.96      0.98      0.97      1401\n",
      "          7       0.97      0.96      0.96      1530\n",
      "          8       0.96      0.94      0.95      1396\n",
      "          9       0.93      0.93      0.93      1380\n",
      "\n",
      "avg / total       0.96      0.96      0.96     14124\n",
      "\n",
      "\n"
     ]
    }
   ],
   "source": [
    "# Première évaluation de notre classifieur\n",
    "from sklearn import metrics\n",
    "# Tout d'abord le rapport de classification proposé dans sklearn\n",
    "print(\"Rapport de classification pour le modèle %s:\\n%s\\n\" % (model_rf_1, metrics.classification_report(y_val, predictions_rf_1)))"
   ]
  },
  {
   "cell_type": "code",
   "execution_count": 146,
   "metadata": {
    "collapsed": false
   },
   "outputs": [
    {
     "name": "stdout",
     "output_type": "stream",
     "text": [
      "Confusion matrix:\n",
      "[[1322    0    0    1    2    1    9    0    5    2]\n",
      " [   0 1512    6    4    3    0    4    2    3    0]\n",
      " [   6    1 1296    9    8    1   10   12    9    5]\n",
      " [   3    2   28 1359    1   19    1   10   17    6]\n",
      " [   4    2    4    0 1398    0    7    1    3   31]\n",
      " [   8    4    1   30    4 1213    7    3    7   11]\n",
      " [  12    3    1    0    1   12 1368    0    4    0]\n",
      " [   1    3   26    3    7    0    0 1468    0   22]\n",
      " [   6    9    8   17    7   11    9    1 1315   13]\n",
      " [  12    1    4   12   25    5    3   17   13 1288]]\n"
     ]
    }
   ],
   "source": [
    "# Ensuite la matrice de confusion\n",
    "print(\"Confusion matrix:\\n%s\" % metrics.confusion_matrix(y_val, predictions_rf_1))"
   ]
  },
  {
   "cell_type": "code",
   "execution_count": 12,
   "metadata": {
    "collapsed": false
   },
   "outputs": [],
   "source": [
    "# Il est également utile de construire une méthode d'évaluation spécifique au concours\n",
    "from __future__ import division\n",
    "def evaluate_model(labels, predictions):\n",
    "    true_count = 0\n",
    "    for index, label in enumerate(labels):\n",
    "        if predictions[index] == label:\n",
    "            true_count +=1\n",
    "    return true_count/len(labels)\n",
    "\n",
    "print evaluate_model(y_val, predictions_rf_1) # à comparer au résultat obtenu sur le leaderboard"
   ]
  },
  {
   "cell_type": "markdown",
   "metadata": {},
   "source": [
    "### **Etape 7 - Incrémentez ! Optimisation et test d'autres modèles**\n",
    "#### **Optimisation du RandomForest**\n"
   ]
  },
  {
   "cell_type": "raw",
   "metadata": {},
   "source": [
    "Afin d'obtenir un meilleur score, on peut optimiser les hyper-paramètres du modèle. C'est parfois une tâche compliquée et chronophage qu'il est judicieux d'effectuer une fois que l'on est confiant dans l'efficacité potentielle du modèle, et que les variables qui alimentent celui-ci ont été travaillées (feature engineering)."
   ]
  },
  {
   "cell_type": "code",
   "execution_count": 155,
   "metadata": {
    "collapsed": false
   },
   "outputs": [
    {
     "data": {
      "text/plain": [
       "[<matplotlib.lines.Line2D at 0x1263563d0>]"
      ]
     },
     "execution_count": 155,
     "metadata": {},
     "output_type": "execute_result"
    },
    {
     "data": {
      "image/png": "[encoded data removed]",
      "text/plain": [
       "<matplotlib.figure.Figure at 0x128ca0290>"
      ]
     },
     "metadata": {},
     "output_type": "display_data"
    }
   ],
   "source": [
    "# Peut-on faire mieux que précédemment en optimisant notre modèle ?\n",
    "# Par exemple, modifier le nombre d'arbres peut-il nous faire progresser ?\n",
    "n_trees = np.arange(20,201,20)\n",
    "scores = list()\n",
    "for n_tree in n_trees:\n",
    "    model = RandomForestClassifier(n_tree, n_jobs=-1)\n",
    "    model.fit(x_train, y_train)\n",
    "    scores.append(model.score(x_val, y_val)) # la méthode score renvoie la moyenne de la précision des arbres générés\n",
    "plt.plot(n_trees, scores)"
   ]
  },
  {
   "cell_type": "code",
   "execution_count": 156,
   "metadata": {
    "collapsed": true
   },
   "outputs": [],
   "source": [
    "# Cela veut dire que nous pouvons obtenir un meilleur résultat pour n_tree = 120 par exemple\n",
    "model_rf_2 = RandomForestClassifier(n_estimators=120, n_jobs=-1)\n",
    "model_rf_2.fit(x_train, y_train)\n",
    "predictions_rf_2 = model_rf_2.predict(x_val)"
   ]
  },
  {
   "cell_type": "code",
   "execution_count": 157,
   "metadata": {
    "collapsed": false
   },
   "outputs": [
    {
     "name": "stdout",
     "output_type": "stream",
     "text": [
      "0.96261682243\n"
     ]
    }
   ],
   "source": [
    "print evaluate_model(y_val, predictions_rf_2)"
   ]
  },
  {
   "cell_type": "markdown",
   "metadata": {},
   "source": [
    "#### **Test d'un nouveau modèle**"
   ]
  },
  {
   "cell_type": "code",
   "execution_count": 162,
   "metadata": {
    "collapsed": true
   },
   "outputs": [],
   "source": [
    "# Maintenant, testons un autre modèle de classification\n",
    "# Par exemple un SVM\n",
    "from sklearn import svm\n",
    "model_svm_1 = svm.SVC(C=1, gamma=0.001, cache_size=500)\n",
    "#TODO, évaluer le modèle sur le set de validation croisée\n",
    "model_svm_1.fit(x_train, y_train)\n",
    "predictions_svm_1 = model_svm_1.predict(x_val)"
   ]
  },
  {
   "cell_type": "code",
   "execution_count": 163,
   "metadata": {
    "collapsed": false
   },
   "outputs": [
    {
     "name": "stdout",
     "output_type": "stream",
     "text": [
      "0.953412630983\n"
     ]
    }
   ],
   "source": [
    "print evaluate_model(y_val, predictions_svm_1) #pas mieux mais non optimisé"
   ]
  },
  {
   "cell_type": "markdown",
   "metadata": {},
   "source": [
    "#### **Exemple d'optimisation automatique du SVM**"
   ]
  },
  {
   "cell_type": "code",
   "execution_count": 166,
   "metadata": {
    "collapsed": false
   },
   "outputs": [
    {
     "data": {
      "text/plain": [
       "GridSearchCV(cv=None, error_score='raise',\n",
       "       estimator=SVC(C=1.0, cache_size=200, class_weight=None, coef0=0.0,\n",
       "  decision_function_shape=None, degree=3, gamma='auto', kernel='rbf',\n",
       "  max_iter=-1, probability=False, random_state=None, shrinking=True,\n",
       "  tol=0.001, verbose=False),\n",
       "       fit_params={}, iid=True, n_jobs=-1,\n",
       "       param_grid={'gamma': array([  1.00000e-06,   3.59381e-06,   1.29155e-05,   4.64159e-05,\n",
       "         1.66810e-04,   5.99484e-04,   2.15443e-03,   7.74264e-03,\n",
       "         2.78256e-02,   1.00000e-01])},\n",
       "       pre_dispatch='2*n_jobs', refit=True, scoring=None, verbose=0)"
      ]
     },
     "execution_count": 166,
     "metadata": {},
     "output_type": "execute_result"
    }
   ],
   "source": [
    "from hyperopt import fmin, tpe, hp, STATUS_OK, Trials\n",
    "from sklearn.cross_validation import cross_val_score\n",
    "from sklearn import svm\n",
    "\n",
    "def hyperopt_train_test(params): # on définit une fonction d'évaluation de notre model que l'on va ici chercher à maximiser\n",
    "\n",
    "    X_  = scaled_train_set\n",
    "    if 'normalize' in params:\n",
    "        if params['normalize'] == 1:\n",
    "            X_ = normalize(X_)\n",
    "            del params['normalize']\n",
    "\n",
    "\n",
    "    if 'scale' in params:\n",
    "        if params['scale'] == 1:\n",
    "            X_ = scale(X_)\n",
    "            del params['scale']\n",
    "    classifier = svm.SVC(**params)\n",
    "    return cross_val_score(classifier, X_, labels, cv=1, n_jobs=-1, verbose=1).mean()\n",
    "\n",
    "space4svm  = {\n",
    "    'C': hp.uniform('C', 0, 20),\n",
    "    'kernel': hp.choice('kernel', ['linear', 'sigmoid', 'poly', 'rbf']),\n",
    "    'gamma': hp.uniform('gamma',0,20),\n",
    "    #'scale':hp.choice('scale', [0,1]),\n",
    "    #'normalize': hp.choice('normalize', [0,1])\n",
    "}\n",
    " \n",
    "def f(params): # la fonctionà évaluer\n",
    "    acc = hyperopt_train_test(params)\n",
    "    return {'loss': -acc, 'status': STATUS_OK}\n",
    " \n",
    "trials = Trials()\n",
    "best = fmin(f, space4svm, algo=tpe.suggest, max_evals=100, trials=trials)\n",
    "print 'best:'\n",
    "\n",
    "print best"
   ]
  },
  {
   "cell_type": "code",
   "execution_count": null,
   "metadata": {
    "collapsed": true
   },
   "outputs": [],
   "source": [
    "parameters = ['C', 'kernel', 'gamma']\n",
    "cols = len(parameters)\n",
    "f, axes = plt.subplots(nrows=1, ncols=cols, figsize=(20,5))\n",
    "cmap = plt.cm.jet\n",
    "for i, val in enumerate(parameters):\n",
    "    xs = np.array([t['misc']['vals'][val] for t in trials.trials]).ravel()\n",
    "    ys = [-t['result']['loss'] for t in trials.trials]\n",
    "    xs, ys = zip(\\*sorted(zip(xs, ys)))\n",
    "    axes[i].scatter(xs, ys, s=20, linewidth=0.01, alpha=0.25, c=cmap(float(i)/len(parameters)))\n",
    "    axes[i].set_title(val)\n",
    "    axes[i].set_ylim([0.9, 1.0])"
   ]
  },
  {
   "cell_type": "markdown",
   "metadata": {},
   "source": [
    "#### **Utilisation d'un réseau de neurones à convolutions**"
   ]
  },
  {
   "cell_type": "code",
   "execution_count": 24,
   "metadata": {
    "collapsed": false
   },
   "outputs": [],
   "source": [
    "from keras.layers import Dense, Activation, Dropout\n",
    "from keras.models import Model, Sequential\n",
    "from keras.optimizers import SGD\n",
    "\n",
    "# Keras a un fonctionnement séquentiel, nous allons déclarer les couches de notre réseau de neurones \n",
    "# qui seront ensuite passées à un constructeur\n",
    "kerasNet1 = Sequential([\n",
    "        Dense(200, batch_input_shape=(None,784), init='uniform'), #None means batch of any size\n",
    "        Activation('tanh'),\n",
    "        Dense(10),\n",
    "        Activation('softmax'),\n",
    "    ])\n",
    "# On déclare également une fonction d'optimisation et ses paramètres (learning rate, initialisation des poids...)\n",
    "sgd = SGD(lr=0.001, decay=1e-6, momentum=0.9, nesterov=True)\n",
    "\n",
    "# On fait appel au constructeur qui compile les différents objets créés précédemment\n",
    "kerasNet1.compile(optimizer=sgd,\n",
    "                  loss='categorical_crossentropy',\n",
    "                  metrics=['accuracy'])\n"
   ]
  },
  {
   "cell_type": "code",
   "execution_count": 25,
   "metadata": {
    "collapsed": true
   },
   "outputs": [],
   "source": [
    "# Afin de pouvoir entrainer notre modèle, nous devons convertir les labels dans un format binaire\n",
    "from keras.utils.np_utils import to_categorical\n",
    "y_train_b = to_categorical(y_train)\n",
    "y_val_b = to_categorical(y_val)"
   ]
  },
  {
   "cell_type": "code",
   "execution_count": 26,
   "metadata": {
    "collapsed": false,
    "scrolled": false
   },
   "outputs": [
    {
     "name": "stdout",
     "output_type": "stream",
     "text": [
      "Epoch 1/10\n",
      "28293/28293 [==============================] - 1s - loss: 2.3012 - acc: 0.1536     \n",
      "Epoch 2/10\n",
      "28293/28293 [==============================] - 1s - loss: 2.2994 - acc: 0.1232     \n",
      "Epoch 3/10\n",
      "28293/28293 [==============================] - 1s - loss: 2.2976 - acc: 0.1132     \n",
      "Epoch 4/10\n",
      "28293/28293 [==============================] - 1s - loss: 2.2960 - acc: 0.1130     \n",
      "Epoch 5/10\n",
      "28293/28293 [==============================] - 1s - loss: 2.2944 - acc: 0.1124     \n",
      "Epoch 6/10\n",
      "28293/28293 [==============================] - 1s - loss: 2.2928 - acc: 0.1126     \n",
      "Epoch 7/10\n",
      "28293/28293 [==============================] - 1s - loss: 2.2912 - acc: 0.1130     \n",
      "Epoch 8/10\n",
      "28293/28293 [==============================] - 1s - loss: 2.2894 - acc: 0.1134     \n",
      "Epoch 9/10\n",
      "28293/28293 [==============================] - 1s - loss: 2.2873 - acc: 0.1142     \n",
      "Epoch 10/10\n",
      "28293/28293 [==============================] - 1s - loss: 2.2845 - acc: 0.1146     \n"
     ]
    },
    {
     "data": {
      "text/plain": [
       "<keras.callbacks.History at 0x128a908d0>"
      ]
     },
     "execution_count": 26,
     "metadata": {},
     "output_type": "execute_result"
    }
   ],
   "source": [
    "# On entraine le modèle\n",
    "x_train  = np.array(x_train)\n",
    "x_val = np.array(x_val)\n",
    "kerasNet1.fit(x_train, y_train_b, nb_epoch=10, batch_size=100, verbose=1)"
   ]
  },
  {
   "cell_type": "code",
   "execution_count": 35,
   "metadata": {
    "collapsed": true
   },
   "outputs": [],
   "source": [
    "x_train  = np.array(x_train)\n",
    "x_val = np.array(x_val)"
   ]
  },
  {
   "cell_type": "code",
   "execution_count": 34,
   "metadata": {
    "collapsed": false
   },
   "outputs": [],
   "source": [
    "predictions_cnn_1 = kerasNet1.predict(np.array(x_val))"
   ]
  },
  {
   "cell_type": "code",
   "execution_count": 1,
   "metadata": {
    "collapsed": false
   },
   "outputs": [
    {
     "name": "stderr",
     "output_type": "stream",
     "text": [
      "Using Theano backend.\n"
     ]
    },
    {
     "ename": "NameError",
     "evalue": "name 'kerasNet1' is not defined",
     "output_type": "error",
     "traceback": [
      "\u001b[0;31m---------------------------------------------------------------------------\u001b[0m",
      "\u001b[0;31mNameError\u001b[0m                                 Traceback (most recent call last)",
      "\u001b[0;32m<ipython-input-1-5998fe9aa673>\u001b[0m in \u001b[0;36m<module>\u001b[0;34m()\u001b[0m\n\u001b[1;32m     15\u001b[0m \u001b[0;34m\u001b[0m\u001b[0m\n\u001b[1;32m     16\u001b[0m \u001b[0;31m# we fit once again the model but this time using the custom callback object\u001b[0m\u001b[0;34m\u001b[0m\u001b[0;34m\u001b[0m\u001b[0m\n\u001b[0;32m---> 17\u001b[0;31m \u001b[0mkerasNet1\u001b[0m\u001b[0;34m.\u001b[0m\u001b[0mfit\u001b[0m\u001b[0;34m(\u001b[0m\u001b[0mx_train\u001b[0m\u001b[0;34m,\u001b[0m \u001b[0my_train_b\u001b[0m\u001b[0;34m,\u001b[0m \u001b[0mnb_epoch\u001b[0m\u001b[0;34m=\u001b[0m\u001b[0;36m50\u001b[0m\u001b[0;34m,\u001b[0m \u001b[0mbatch_size\u001b[0m\u001b[0;34m=\u001b[0m\u001b[0;36m100\u001b[0m\u001b[0;34m,\u001b[0m \u001b[0mvalidation_data\u001b[0m\u001b[0;34m=\u001b[0m\u001b[0;34m(\u001b[0m\u001b[0mx_val\u001b[0m\u001b[0;34m,\u001b[0m \u001b[0my_val_b\u001b[0m\u001b[0;34m)\u001b[0m\u001b[0;34m,\u001b[0m \u001b[0mcallbacks\u001b[0m\u001b[0;34m=\u001b[0m\u001b[0;34m[\u001b[0m\u001b[0mhistory\u001b[0m\u001b[0;34m]\u001b[0m\u001b[0;34m)\u001b[0m\u001b[0;34m\u001b[0m\u001b[0m\n\u001b[0m",
      "\u001b[0;31mNameError\u001b[0m: name 'kerasNet1' is not defined"
     ]
    }
   ],
   "source": [
    "# Etudions la manière dont notre modèle se généralise, pour cela on va de nouveau entrainer notre modèle\n",
    "# Puis, pour l'occasion j'ai créé des fonctions de callback\n",
    "from keras.callbacks import Callback\n",
    "\n",
    "class TrainingHistory(Callback):\n",
    "    def on_train_begin(self, logs={}):\n",
    "        self.train_losses = [] # init losses list\n",
    "        self.val_losses = [] # init losses list\n",
    "\n",
    "    def on_epoch_end(self, batch, logs={}): #we could use on_batch_end\n",
    "        self.train_losses.append(logs.get('loss')) # append losses to the list\n",
    "        self.val_losses.append(logs.get('val_loss')) # append losses to the list\n",
    "            \n",
    "history = TrainingHistory() # instanciate the custom callback object\n",
    "\n",
    "# we fit once again the model but this time using the custom callback object\n",
    "kerasNet1.fit(x_train, y_train_b, nb_epoch=50, batch_size=100, validation_data=(x_val, y_val_b), callbacks=[history])"
   ]
  },
  {
   "cell_type": "code",
   "execution_count": null,
   "metadata": {
    "collapsed": true
   },
   "outputs": [],
   "source": [
    "# Visualisons l'erreure commise par notre modèle\n",
    "fig = plt.figure(figsize=(5, 2.5))\n",
    "x = np.linspace(0, len(history.train_losses),len(history.train_losses))\n",
    "plt.plot(x, history.val_losses,  label='val_losses')\n",
    "plt.plot(x, history.train_losses,  label='train_losses')\n",
    "plt.legend(loc='upper right')\n",
    "plt.show()"
   ]
  },
  {
   "cell_type": "markdown",
   "metadata": {},
   "source": [
    "### **Etape 8 - Incrémentez ! Feature Engineering**"
   ]
  },
  {
   "cell_type": "code",
   "execution_count": null,
   "metadata": {
    "collapsed": true
   },
   "outputs": [],
   "source": [
    "# Il n'y a pas trop de place pour le feature engineering ici dans le sens de la création de nouvelles variables\n",
    "# En revanche, on pourrait faire en sorte d'augmenter artificiellement le nombre de données en entrée de notre modèle\n",
    "# ce qui nous permettrait d'avoir un apprentissage plus performant (on appelle ça de la Data Augmentation)"
   ]
  },
  {
   "cell_type": "code",
   "execution_count": 20,
   "metadata": {
    "collapsed": false
   },
   "outputs": [
    {
     "data": {
      "text/plain": [
       "<matplotlib.image.AxesImage at 0x12042bf10>"
      ]
     },
     "execution_count": 20,
     "metadata": {},
     "output_type": "execute_result"
    },
    {
     "data": {
      "image/png": "[encoded data removed]",
      "text/plain": [
       "<matplotlib.figure.Figure at 0x12034cb50>"
      ]
     },
     "metadata": {},
     "output_type": "display_data"
    }
   ],
   "source": [
    "plt.imshow(x_train[0].reshape(28,28), cmap='gray')"
   ]
  },
  {
   "cell_type": "code",
   "execution_count": 24,
   "metadata": {
    "collapsed": false
   },
   "outputs": [
    {
     "data": {
      "text/plain": [
       "<matplotlib.image.AxesImage at 0x1209dc810>"
      ]
     },
     "execution_count": 24,
     "metadata": {},
     "output_type": "execute_result"
    },
    {
     "data": {
      "image/png": "[encoded data removed]",
      "text/plain": [
       "<matplotlib.figure.Figure at 0x11116e410>"
      ]
     },
     "metadata": {},
     "output_type": "display_data"
    }
   ],
   "source": [
    "plt.imshow(x_train[0].reshape(28,28)[::-1], cmap='gray')"
   ]
  },
  {
   "cell_type": "code",
   "execution_count": 28,
   "metadata": {
    "collapsed": false
   },
   "outputs": [
    {
     "data": {
      "text/plain": [
       "<matplotlib.image.AxesImage at 0x12034c4d0>"
      ]
     },
     "execution_count": 28,
     "metadata": {},
     "output_type": "execute_result"
    },
    {
     "data": {
      "image/png": "[encoded data removed]",
      "text/plain": [
       "<matplotlib.figure.Figure at 0x120d0c050>"
      ]
     },
     "metadata": {},
     "output_type": "display_data"
    }
   ],
   "source": [
    "# Pour cela, nous allons effectuer des transformations sur les images de notre jeu d'entraintement\n",
    "# Par exemple, nous pouvons retourner chaque image\n",
    "x_flipped = [img.reshape(28,28)[::-1].flatten() for img in x_train]\n",
    "plt.imshow(x_train[0].reshape(28,28))"
   ]
  },
  {
   "cell_type": "code",
   "execution_count": 27,
   "metadata": {
    "collapsed": false,
    "scrolled": true
   },
   "outputs": [
    {
     "data": {
      "text/plain": [
       "<matplotlib.image.AxesImage at 0x120cf2510>"
      ]
     },
     "execution_count": 27,
     "metadata": {},
     "output_type": "execute_result"
    },
    {
     "data": {
      "image/png": "[encoded data removed]",
      "text/plain": [
       "<matplotlib.figure.Figure at 0x17474a510>"
      ]
     },
     "metadata": {},
     "output_type": "display_data"
    }
   ],
   "source": [
    "plt.imshow(x_flipped[0].reshape(28,28))"
   ]
  },
  {
   "cell_type": "code",
   "execution_count": 33,
   "metadata": {
    "collapsed": false
   },
   "outputs": [
    {
     "name": "stdout",
     "output_type": "stream",
     "text": [
      "(56384, 784)\n",
      "(56384,)\n"
     ]
    }
   ],
   "source": [
    "# On peut donc constituer un nouveau jeu de donnée plus important\n",
    "x_enhanced = np.concatenate((x_train, x_flipped), axis=0)\n",
    "y_enhanced = np.concatenate((y_train, y_train), axis=0)\n",
    "print np.shape(x_enhanced)\n",
    "print np.shape(y_enhanced)"
   ]
  },
  {
   "cell_type": "markdown",
   "metadata": {},
   "source": [
    "# ** Part 3: **\n",
    "## **A - Allons plus loin : Facial Keypoints Detection**"
   ]
  },
  {
   "cell_type": "markdown",
   "metadata": {},
   "source": [
    "### **Etape 1 - Importer, explorer et préparer la donnée**"
   ]
  },
  {
   "cell_type": "markdown",
   "metadata": {},
   "source": [
    "### **Etape 2 - Pré-traitement de la donnée**"
   ]
  },
  {
   "cell_type": "markdown",
   "metadata": {},
   "source": [
    "### **Etape 3 - Création d'un set de validation croisée**"
   ]
  },
  {
   "cell_type": "code",
   "execution_count": null,
   "metadata": {
    "collapsed": true
   },
   "outputs": [],
   "source": []
  },
  {
   "cell_type": "markdown",
   "metadata": {},
   "source": [
    "# ** Part 3: **\n",
    "## **B - Réseaux de neurones avec Keras**"
   ]
  },
  {
   "cell_type": "code",
   "execution_count": null,
   "metadata": {
    "collapsed": true
   },
   "outputs": [],
   "source": []
  }
 ],
 "metadata": {
  "kernelspec": {
   "display_name": "Python 2",
   "language": "python",
   "name": "python2"
  },
  "language_info": {
   "codemirror_mode": {
    "name": "ipython",
    "version": 2
   },
   "file_extension": ".py",
   "mimetype": "text/x-python",
   "name": "python",
   "nbconvert_exporter": "python",
   "pygments_lexer": "ipython2",
   "version": "2.7.10"
  }
 },
 "nbformat": 4,
 "nbformat_minor": 0
}
