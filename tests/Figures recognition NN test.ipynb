{
 "cells": [
  {
   "cell_type": "code",
   "execution_count": 24,
   "metadata": {
    "collapsed": false
   },
   "outputs": [
    {
     "name": "stdout",
     "output_type": "stream",
     "text": [
      "2.7.10 |Anaconda 2.5.0 (x86_64)| (default, Oct 19 2015, 18:31:17) \n",
      "[GCC 4.2.1 (Apple Inc. build 5577)]\n"
     ]
    }
   ],
   "source": [
    "import lasagne\n",
    "import pandas as pd\n",
    "import numpy as np\n",
    "import matplotlib.pyplot as plt\n",
    "from __future__ import (division, print_function)\n",
    "%matplotlib inline\n",
    "import os\n",
    "import sys\n",
    "print(sys.version)"
   ]
  },
  {
   "cell_type": "code",
   "execution_count": 29,
   "metadata": {
    "collapsed": false
   },
   "outputs": [
    {
     "name": "stdout",
     "output_type": "stream",
     "text": [
      "/Users/florentpajot/Code/Python-SQLI/sqli/sqli/Data/\n"
     ]
    },
    {
     "data": {
      "image/png": "[encoded data removed]",
      "text/plain": [
       "<matplotlib.figure.Figure at 0x11b4b0a50>"
      ]
     },
     "metadata": {},
     "output_type": "display_data"
    }
   ],
   "source": [
    "base_path = os.getcwd()\n",
    "data_folder = os.path.join(base_path, 'Data/')\n",
    "print(data_folder)\n",
    "\n",
    "# reading files\n",
    "train_file = os.path.join(data_folder, 'train.csv')\n",
    "train_set = np.recfromcsv(train_file, delimiter=',', skip_header=0, dtype=int, filling_values=np.nan, case_sensitive=True, deletechars='', replace_space=' ')\n",
    "\n",
    "test_file = os.path.join(data_folder, 'test.csv')\n",
    "test_set = np.recfromcsv(test_file, delimiter=',', skip_header=0, dtype=int, filling_values=np.nan, case_sensitive=True, deletechars='', replace_space=' ')\n",
    "\n",
    "#converting files to a list of np arrays\n",
    "train_set = train_set.tolist()\n",
    "test_set = test_set.tolist()\n",
    "\n",
    "train_set = [np.array(record, dtype=np.int32) for record in train_set]\n",
    "test_set = [np.array(record, dtype=np.int32) for record in test_set]\n",
    "\n",
    "#divide train set into data and labels\n",
    "m = len(train_set)\n",
    "train_set = np.array(train_set).reshape(m, -1)\n",
    "labels = [record[0] for record in train_set]\n",
    "train_set = [record[1:] for record in train_set]\n",
    "\n",
    "# Scaling data\n",
    "from sklearn.preprocessing import StandardScaler\n",
    "scaler = StandardScaler()\n",
    "train_set = scaler.fit_transform(train_set).astype(np.float32)\n",
    "test_set = scaler.transform(test_set).astype(np.float32)\n",
    "\n",
    "# visualizing one image per class\n",
    "figs, axes = plt.subplots(4,4, figsize=(6, 6))\n",
    "for i in range(4):\n",
    "    for j in range(4):\n",
    "        axes[i, j].imshow(train_set[i + 4*j].reshape(28,28), cmap='gray', interpolation='none')\n",
    "        axes[i, j].set_xticks([])\n",
    "        axes[i, j].set_yticks([])\n",
    "        axes[i, j].set_title(\"Label: {}\".format(labels[i + 4 * j]))\n",
    "        axes[i, j].axis('off')\n",
    "#plt.axis('off')\n",
    "#plt.imshow(train_set[1].reshape(28,28), cmap=plt.cm.gray_r, interpolation='nearest')\n",
    "\n",
    "# cross validation with 1 fold\n",
    "from sklearn.cross_validation import StratifiedShuffleSplit\n",
    "splits = StratifiedShuffleSplit(labels, n_iter=1, test_size=0.3, random_state=1)\n",
    "\n",
    "for t_i, v_i in splits:\n",
    "    # Compute the train set\n",
    "    train = np.array([train_set[i] for i in t_i])\n",
    "    t_labels = np.array([labels[i] for i in t_i])\n",
    "    # Compute the validation set\n",
    "    val = np.array([train_set[i] for i in v_i])\n",
    "    v_labels = np.array([labels[i] for i in v_i])\n",
    "\n"
   ]
  },
  {
   "cell_type": "code",
   "execution_count": 47,
   "metadata": {
    "collapsed": false
   },
   "outputs": [
    {
     "name": "stdout",
     "output_type": "stream",
     "text": [
      "Variable                 Type                      Data/Info\n",
      "------------------------------------------------------------\n",
      "Activation               type                      <class 'keras.layers.core.Activation'>\n",
      "Dense                    type                      <class 'keras.layers.core.Dense'>\n",
      "Dropout                  type                      <class 'keras.layers.core.Dropout'>\n",
      "Input                    function                  <function Input at 0x10c45bcf8>\n",
      "Model                    type                      <class 'keras.engine.training.Model'>\n",
      "SGD                      type                      <class 'keras.optimizers.SGD'>\n",
      "Sequential               type                      <class 'keras.models.Sequential'>\n",
      "StandardScaler           type                      <class 'sklearn.preproces<...>ing.data.StandardScaler'>\n",
      "StratifiedShuffleSplit   ABCMeta                   <class 'sklearn.cross_val<...>.StratifiedShuffleSplit'>\n",
      "axes                     ndarray                   4x4: 16 elems, type `object`, 128 bytes\n",
      "base_path                str                       /Users/florentpajot/Code/Python-SQLI/sqli/sqli\n",
      "data                     ndarray                   1000x784: 784000 elems, type `float64`, 6272000 bytes (5 Mb)\n",
      "data_folder              str                       /Users/florentpajot/Code/<...>thon-SQLI/sqli/sqli/Data/\n",
      "division                 __future__._Feature       _Feature((2, 2, 0, 'alpha<...> 0, 0, 'alpha', 0), 8192)\n",
      "f1_score                 function                  <function f1_score at 0x16d9be848>\n",
      "figs                     Figure                    Figure(480x480)\n",
      "i                        int                       0\n",
      "j                        int                       3\n",
      "keras                    module                    <module 'keras' from '/Us<...>ages/keras/__init__.pyc'>\n",
      "kerasNet1                Sequential                <keras.models.Sequential object at 0x125f2e4d0>\n",
      "labels                   list                      n=42000\n",
      "lasagne                  module                    <module 'lasagne' from '/<...>es/lasagne/__init__.pyc'>\n",
      "m                        int                       42000\n",
      "n                        module                    <module 'numpy' from '/Us<...>ages/numpy/__init__.pyc'>\n",
      "np                       module                    <module 'numpy' from '/Us<...>ages/numpy/__init__.pyc'>\n",
      "os                       module                    <module 'os' from '/Users<...>da/lib/python2.7/os.pyc'>\n",
      "pd                       module                    <module 'pandas' from '/U<...>ges/pandas/__init__.pyc'>\n",
      "plt                      module                    <module 'matplotlib.pyplo<...>s/matplotlib/pyplot.pyc'>\n",
      "prediction               ndarray                   12600x10: 126000 elems, type `float64`, 1008000 bytes (984 kb)\n",
      "print_function           __future__._Feature       _Feature((2, 6, 0, 'alpha<...>0, 0, 'alpha', 0), 65536)\n",
      "record                   ndarray                   785: 785 elems, type `int32`, 3140 bytes\n",
      "scaler                   StandardScaler            StandardScaler(copy=True,<...>mean=True, with_std=True)\n",
      "sgd                      SGD                       <keras.optimizers.SGD object at 0x125f2e3d0>\n",
      "splits                   StratifiedShuffleSplit    StratifiedShuffleSplit(la<...>size=0.3, random_state=1)\n",
      "sys                      module                    <module 'sys' (built-in)>\n",
      "t_binary_labels          ndarray                   29400x10: 294000 elems, type `float64`, 2352000 bytes (2 Mb)\n",
      "t_i                      ndarray                   29400: 29400 elems, type `int64`, 235200 bytes (229 kb)\n",
      "t_labels                 ndarray                   29400: 29400 elems, type `int32`, 117600 bytes (114 kb)\n",
      "test_file                str                       /Users/florentpajot/Code/<...>I/sqli/sqli/Data/test.csv\n",
      "test_set                 ndarray                   28000x784: 21952000 elems, type `float32`, 87808000 bytes (83 Mb)\n",
      "to_categorical           function                  <function to_categorical at 0x10d1b65f0>\n",
      "train                    ndarray                   29400x784: 23049600 elems, type `float32`, 92198400 bytes (87 Mb)\n",
      "train_file               str                       /Users/florentpajot/Code/<...>/sqli/sqli/Data/train.csv\n",
      "train_set                ndarray                   42000x784: 32928000 elems, type `float32`, 131712000 bytes (125 Mb)\n",
      "v_binary_labels          ndarray                   12600x10: 126000 elems, type `float64`, 1008000 bytes (984 kb)\n",
      "v_i                      ndarray                   12600: 12600 elems, type `int64`, 100800 bytes (98 kb)\n",
      "v_labels                 ndarray                   12600: 12600 elems, type `int32`, 50400 bytes\n",
      "val                      ndarray                   12600x784: 9878400 elems, type `float32`, 39513600 bytes (37 Mb)\n"
     ]
    }
   ],
   "source": [
    "whos"
   ]
  },
  {
   "cell_type": "code",
   "execution_count": 4,
   "metadata": {
    "collapsed": false
   },
   "outputs": [],
   "source": [
    "from lasagne import layers\n",
    "from lasagne.updates import nesterov_momentum\n",
    "from nolearn.lasagne import NeuralNet\n",
    "from nolearn.lasagne import visualize"
   ]
  },
  {
   "cell_type": "code",
   "execution_count": 8,
   "metadata": {
    "collapsed": false
   },
   "outputs": [],
   "source": [
    "train = train.reshape(-1, 1, 28, 28)\n",
    "val = val.reshape(-1, 1, 28, 28)\n",
    "\n",
    "net1 = NeuralNet(\n",
    "        layers=[('input', layers.InputLayer),\n",
    "                ('hidden', layers.DenseLayer),\n",
    "                ('output', layers.DenseLayer)],\n",
    "        #layer parameters:\n",
    "        input_shape=(None,1,28,28),\n",
    "        hidden_num_units=200,\n",
    "        output_nonlinearity=lasagne.nonlinearities.softmax,\n",
    "        output_num_units=10,\n",
    "        \n",
    "        #opitmization method:\n",
    "        update=nesterov_momentum,\n",
    "        update_learning_rate=0.001,\n",
    "        update_momentum=0.9,\n",
    "        max_epochs=5,\n",
    "        verbose=1)"
   ]
  },
  {
   "cell_type": "code",
   "execution_count": null,
   "metadata": {
    "collapsed": false
   },
   "outputs": [
    {
     "name": "stdout",
     "output_type": "stream",
     "text": [
      "# Neural Network with 159010 learnable parameters\n",
      "\n",
      "## Layer information\n",
      "\n",
      "  #  name    size\n",
      "---  ------  -------\n",
      "  0  input   1x28x28\n",
      "  1  hidden  200\n",
      "  2  output  10\n",
      "\n"
     ]
    }
   ],
   "source": [
    "net1.fit(train, t_labels)"
   ]
  },
  {
   "cell_type": "code",
   "execution_count": null,
   "metadata": {
    "collapsed": true
   },
   "outputs": [],
   "source": [
    "def CNN(n_epochs):\n",
    "    net1 = NeuralNet(\n",
    "        layers=[\n",
    "        ('input', layers.InputLayer),\n",
    "        ('conv1', layers.Conv2DLayer),      #Convolutional layer.  Params defined below\n",
    "        ('pool1', layers.MaxPool2DLayer),   # Like downsampling, for execution speed\n",
    "        ('conv2', layers.Conv2DLayer),\n",
    "        ('hidden3', layers.DenseLayer),\n",
    "        ('output', layers.DenseLayer),\n",
    "        ],\n",
    "\n",
    "    input_shape=(None, 1, 28, 28),\n",
    "    conv1_num_filters=7, \n",
    "    conv1_filter_size=(3, 3), \n",
    "    conv1_nonlinearity=lasagne.nonlinearities.rectify,\n",
    "        \n",
    "    pool1_pool_size=(2, 2),\n",
    "        \n",
    "    conv2_num_filters=12, \n",
    "    conv2_filter_size=(2, 2),    \n",
    "    conv2_nonlinearity=lasagne.nonlinearities.rectify,\n",
    "        \n",
    "    hidden3_num_units=1000,\n",
    "    output_num_units=10, \n",
    "    output_nonlinearity=lasagne.nonlinearities.softmax,\n",
    "\n",
    "    update_learning_rate=0.0001,\n",
    "    update_momentum=0.9,\n",
    "\n",
    "    max_epochs=n_epochs,\n",
    "    verbose=1,\n",
    "    )\n",
    "    return net1\n",
    "\n",
    "cnn = CNN(15).fit(train,target) # train the CNN model for 15 epochs"
   ]
  },
  {
   "cell_type": "code",
   "execution_count": 45,
   "metadata": {
    "collapsed": false
   },
   "outputs": [
    {
     "name": "stdout",
     "output_type": "stream",
     "text": [
      "Train on 29400 samples, validate on 12600 samples\n",
      "Epoch 1/100\n",
      "29400/29400 [==============================] - 2s - loss: 0.9119 - acc: 0.7437 - val_loss: 0.4755 - val_acc: 0.8726\n",
      "Epoch 2/100\n",
      "29400/29400 [==============================] - 2s - loss: 0.3981 - acc: 0.8932 - val_loss: 0.3663 - val_acc: 0.8977\n",
      "Epoch 3/100\n",
      "29400/29400 [==============================] - 2s - loss: 0.3196 - acc: 0.9108 - val_loss: 0.3199 - val_acc: 0.9103\n",
      "Epoch 4/100\n",
      "29400/29400 [==============================] - 2s - loss: 0.2781 - acc: 0.9213 - val_loss: 0.2921 - val_acc: 0.9194\n",
      "Epoch 5/100\n",
      "29400/29400 [==============================] - 2s - loss: 0.2501 - acc: 0.9295 - val_loss: 0.2724 - val_acc: 0.9232\n",
      "Epoch 6/100\n",
      "29400/29400 [==============================] - 2s - loss: 0.2294 - acc: 0.9353 - val_loss: 0.2576 - val_acc: 0.9270\n",
      "Epoch 7/100\n",
      "29400/29400 [==============================] - 1s - loss: 0.2132 - acc: 0.9397 - val_loss: 0.2457 - val_acc: 0.9321\n",
      "Epoch 8/100\n",
      "29400/29400 [==============================] - 2s - loss: 0.1995 - acc: 0.9440 - val_loss: 0.2363 - val_acc: 0.9352\n",
      "Epoch 9/100\n",
      "29400/29400 [==============================] - 1s - loss: 0.1880 - acc: 0.9474 - val_loss: 0.2286 - val_acc: 0.9369\n",
      "Epoch 10/100\n",
      "29400/29400 [==============================] - 2s - loss: 0.1780 - acc: 0.9506 - val_loss: 0.2215 - val_acc: 0.9387\n",
      "Epoch 11/100\n",
      "29400/29400 [==============================] - 2s - loss: 0.1691 - acc: 0.9532 - val_loss: 0.2156 - val_acc: 0.9397\n",
      "Epoch 12/100\n",
      "29400/29400 [==============================] - 1s - loss: 0.1614 - acc: 0.9554 - val_loss: 0.2103 - val_acc: 0.9410\n",
      "Epoch 13/100\n",
      "29400/29400 [==============================] - 2s - loss: 0.1542 - acc: 0.9573 - val_loss: 0.2056 - val_acc: 0.9432\n",
      "Epoch 14/100\n",
      "29400/29400 [==============================] - 1s - loss: 0.1479 - acc: 0.9598 - val_loss: 0.2013 - val_acc: 0.9441\n",
      "Epoch 15/100\n",
      "29400/29400 [==============================] - 1s - loss: 0.1420 - acc: 0.9614 - val_loss: 0.1976 - val_acc: 0.9447\n",
      "Epoch 16/100\n",
      "29400/29400 [==============================] - 2s - loss: 0.1365 - acc: 0.9630 - val_loss: 0.1939 - val_acc: 0.9463\n",
      "Epoch 17/100\n",
      "29400/29400 [==============================] - 2s - loss: 0.1317 - acc: 0.9645 - val_loss: 0.1908 - val_acc: 0.9474\n",
      "Epoch 18/100\n",
      "29400/29400 [==============================] - 1s - loss: 0.1270 - acc: 0.9659 - val_loss: 0.1878 - val_acc: 0.9477\n",
      "Epoch 19/100\n",
      "29400/29400 [==============================] - 1s - loss: 0.1227 - acc: 0.9674 - val_loss: 0.1853 - val_acc: 0.9477\n",
      "Epoch 20/100\n",
      "29400/29400 [==============================] - 2s - loss: 0.1187 - acc: 0.9690 - val_loss: 0.1829 - val_acc: 0.9483\n",
      "Epoch 21/100\n",
      "29400/29400 [==============================] - 2s - loss: 0.1148 - acc: 0.9697 - val_loss: 0.1807 - val_acc: 0.9487\n",
      "Epoch 22/100\n",
      "29400/29400 [==============================] - 1s - loss: 0.1113 - acc: 0.9706 - val_loss: 0.1782 - val_acc: 0.9490\n",
      "Epoch 23/100\n",
      "29400/29400 [==============================] - 2s - loss: 0.1080 - acc: 0.9719 - val_loss: 0.1764 - val_acc: 0.9498\n",
      "Epoch 24/100\n",
      "29400/29400 [==============================] - 1s - loss: 0.1049 - acc: 0.9726 - val_loss: 0.1746 - val_acc: 0.9503\n",
      "Epoch 25/100\n",
      "29400/29400 [==============================] - 1s - loss: 0.1019 - acc: 0.9736 - val_loss: 0.1729 - val_acc: 0.9508\n",
      "Epoch 26/100\n",
      "29400/29400 [==============================] - 1s - loss: 0.0990 - acc: 0.9750 - val_loss: 0.1716 - val_acc: 0.9514\n",
      "Epoch 27/100\n",
      "29400/29400 [==============================] - 1s - loss: 0.0963 - acc: 0.9758 - val_loss: 0.1700 - val_acc: 0.9523\n",
      "Epoch 28/100\n",
      "29400/29400 [==============================] - 2s - loss: 0.0937 - acc: 0.9770 - val_loss: 0.1684 - val_acc: 0.9522\n",
      "Epoch 29/100\n",
      "29400/29400 [==============================] - 2s - loss: 0.0913 - acc: 0.9774 - val_loss: 0.1672 - val_acc: 0.9527\n",
      "Epoch 30/100\n",
      "29400/29400 [==============================] - 1s - loss: 0.0889 - acc: 0.9780 - val_loss: 0.1658 - val_acc: 0.9525\n",
      "Epoch 31/100\n",
      "29400/29400 [==============================] - 2s - loss: 0.0868 - acc: 0.9787 - val_loss: 0.1645 - val_acc: 0.9533\n",
      "Epoch 32/100\n",
      "29400/29400 [==============================] - 1s - loss: 0.0845 - acc: 0.9793 - val_loss: 0.1636 - val_acc: 0.9537\n",
      "Epoch 33/100\n",
      "29400/29400 [==============================] - 2s - loss: 0.0825 - acc: 0.9796 - val_loss: 0.1626 - val_acc: 0.9544\n",
      "Epoch 34/100\n",
      "29400/29400 [==============================] - 2s - loss: 0.0805 - acc: 0.9804 - val_loss: 0.1616 - val_acc: 0.9540\n",
      "Epoch 35/100\n",
      "29400/29400 [==============================] - 2s - loss: 0.0787 - acc: 0.9808 - val_loss: 0.1607 - val_acc: 0.9543\n",
      "Epoch 36/100\n",
      "29400/29400 [==============================] - 2s - loss: 0.0768 - acc: 0.9814 - val_loss: 0.1600 - val_acc: 0.9543\n",
      "Epoch 37/100\n",
      "29400/29400 [==============================] - 1s - loss: 0.0751 - acc: 0.9820 - val_loss: 0.1588 - val_acc: 0.9547\n",
      "Epoch 38/100\n",
      "29400/29400 [==============================] - 2s - loss: 0.0733 - acc: 0.9827 - val_loss: 0.1581 - val_acc: 0.9549\n",
      "Epoch 39/100\n",
      "29400/29400 [==============================] - 1s - loss: 0.0717 - acc: 0.9832 - val_loss: 0.1574 - val_acc: 0.9551\n",
      "Epoch 40/100\n",
      "29400/29400 [==============================] - 1s - loss: 0.0701 - acc: 0.9833 - val_loss: 0.1564 - val_acc: 0.9556\n",
      "Epoch 41/100\n",
      "29400/29400 [==============================] - 2s - loss: 0.0686 - acc: 0.9842 - val_loss: 0.1557 - val_acc: 0.9556\n",
      "Epoch 42/100\n",
      "29400/29400 [==============================] - 2s - loss: 0.0671 - acc: 0.9846 - val_loss: 0.1553 - val_acc: 0.9560\n",
      "Epoch 43/100\n",
      "29400/29400 [==============================] - 2s - loss: 0.0657 - acc: 0.9850 - val_loss: 0.1544 - val_acc: 0.9567\n",
      "Epoch 44/100\n",
      "29400/29400 [==============================] - 1s - loss: 0.0643 - acc: 0.9854 - val_loss: 0.1538 - val_acc: 0.9565\n",
      "Epoch 45/100\n",
      "29400/29400 [==============================] - 1s - loss: 0.0629 - acc: 0.9856 - val_loss: 0.1534 - val_acc: 0.9565\n",
      "Epoch 46/100\n",
      "29400/29400 [==============================] - 2s - loss: 0.0617 - acc: 0.9860 - val_loss: 0.1527 - val_acc: 0.9565\n",
      "Epoch 47/100\n",
      "29400/29400 [==============================] - 2s - loss: 0.0604 - acc: 0.9865 - val_loss: 0.1521 - val_acc: 0.9571\n",
      "Epoch 48/100\n",
      "29400/29400 [==============================] - 1s - loss: 0.0592 - acc: 0.9869 - val_loss: 0.1515 - val_acc: 0.9573\n",
      "Epoch 49/100\n",
      "29400/29400 [==============================] - 1s - loss: 0.0580 - acc: 0.9871 - val_loss: 0.1511 - val_acc: 0.9575\n",
      "Epoch 50/100\n",
      "29400/29400 [==============================] - 2s - loss: 0.0569 - acc: 0.9875 - val_loss: 0.1507 - val_acc: 0.9575\n",
      "Epoch 51/100\n",
      "29400/29400 [==============================] - 1s - loss: 0.0558 - acc: 0.9880 - val_loss: 0.1503 - val_acc: 0.9577\n",
      "Epoch 52/100\n",
      "29400/29400 [==============================] - 1s - loss: 0.0546 - acc: 0.9885 - val_loss: 0.1497 - val_acc: 0.9581\n",
      "Epoch 53/100\n",
      "29400/29400 [==============================] - 2s - loss: 0.0536 - acc: 0.9884 - val_loss: 0.1495 - val_acc: 0.9585\n",
      "Epoch 54/100\n",
      "29400/29400 [==============================] - 1s - loss: 0.0526 - acc: 0.9891 - val_loss: 0.1491 - val_acc: 0.9585\n",
      "Epoch 55/100\n",
      "29400/29400 [==============================] - 2s - loss: 0.0516 - acc: 0.9893 - val_loss: 0.1487 - val_acc: 0.9587\n",
      "Epoch 56/100\n",
      "29400/29400 [==============================] - 1s - loss: 0.0506 - acc: 0.9896 - val_loss: 0.1483 - val_acc: 0.9590\n",
      "Epoch 57/100\n",
      "29400/29400 [==============================] - 1s - loss: 0.0498 - acc: 0.9901 - val_loss: 0.1479 - val_acc: 0.9592\n",
      "Epoch 58/100\n",
      "29400/29400 [==============================] - 2s - loss: 0.0488 - acc: 0.9901 - val_loss: 0.1477 - val_acc: 0.9593\n",
      "Epoch 59/100\n",
      "29400/29400 [==============================] - 1s - loss: 0.0479 - acc: 0.9902 - val_loss: 0.1474 - val_acc: 0.9598\n",
      "Epoch 60/100\n",
      "29400/29400 [==============================] - 1s - loss: 0.0471 - acc: 0.9905 - val_loss: 0.1470 - val_acc: 0.9601\n",
      "Epoch 61/100\n",
      "29400/29400 [==============================] - 2s - loss: 0.0463 - acc: 0.9909 - val_loss: 0.1465 - val_acc: 0.9603\n",
      "Epoch 62/100\n",
      "29400/29400 [==============================] - 2s - loss: 0.0455 - acc: 0.9911 - val_loss: 0.1464 - val_acc: 0.9602\n",
      "Epoch 63/100\n",
      "29400/29400 [==============================] - 1s - loss: 0.0447 - acc: 0.9910 - val_loss: 0.1462 - val_acc: 0.9602\n",
      "Epoch 64/100\n",
      "29400/29400 [==============================] - 1s - loss: 0.0439 - acc: 0.9914 - val_loss: 0.1461 - val_acc: 0.9600\n",
      "Epoch 65/100\n",
      "29400/29400 [==============================] - 1s - loss: 0.0432 - acc: 0.9916 - val_loss: 0.1457 - val_acc: 0.9605\n",
      "Epoch 66/100\n",
      "29400/29400 [==============================] - 1s - loss: 0.0424 - acc: 0.9919 - val_loss: 0.1455 - val_acc: 0.9606\n",
      "Epoch 67/100\n",
      "29400/29400 [==============================] - 1s - loss: 0.0417 - acc: 0.9922 - val_loss: 0.1451 - val_acc: 0.9603\n",
      "Epoch 68/100\n",
      "29400/29400 [==============================] - 1s - loss: 0.0410 - acc: 0.9921 - val_loss: 0.1449 - val_acc: 0.9603\n",
      "Epoch 69/100\n",
      "29400/29400 [==============================] - 1s - loss: 0.0403 - acc: 0.9923 - val_loss: 0.1448 - val_acc: 0.9604\n",
      "Epoch 70/100\n",
      "29400/29400 [==============================] - 1s - loss: 0.0397 - acc: 0.9927 - val_loss: 0.1445 - val_acc: 0.9605\n",
      "Epoch 71/100\n",
      "29400/29400 [==============================] - 1s - loss: 0.0391 - acc: 0.9929 - val_loss: 0.1443 - val_acc: 0.9612\n",
      "Epoch 72/100\n",
      "29400/29400 [==============================] - 1s - loss: 0.0384 - acc: 0.9931 - val_loss: 0.1441 - val_acc: 0.9610\n",
      "Epoch 73/100\n",
      "29400/29400 [==============================] - 1s - loss: 0.0378 - acc: 0.9934 - val_loss: 0.1439 - val_acc: 0.9615\n",
      "Epoch 74/100\n",
      "29400/29400 [==============================] - 2s - loss: 0.0372 - acc: 0.9935 - val_loss: 0.1437 - val_acc: 0.9613\n",
      "Epoch 75/100\n",
      "29400/29400 [==============================] - 2s - loss: 0.0367 - acc: 0.9938 - val_loss: 0.1436 - val_acc: 0.9611\n",
      "Epoch 76/100\n",
      "29400/29400 [==============================] - 1s - loss: 0.0361 - acc: 0.9939 - val_loss: 0.1435 - val_acc: 0.9611\n",
      "Epoch 77/100\n",
      "29400/29400 [==============================] - 1s - loss: 0.0356 - acc: 0.9941 - val_loss: 0.1433 - val_acc: 0.9613\n",
      "Epoch 78/100\n",
      "29400/29400 [==============================] - 1s - loss: 0.0350 - acc: 0.9942 - val_loss: 0.1433 - val_acc: 0.9614\n",
      "Epoch 79/100\n",
      "29400/29400 [==============================] - 2s - loss: 0.0345 - acc: 0.9943 - val_loss: 0.1431 - val_acc: 0.9615\n",
      "Epoch 80/100\n",
      "29400/29400 [==============================] - 2s - loss: 0.0340 - acc: 0.9946 - val_loss: 0.1431 - val_acc: 0.9612\n",
      "Epoch 81/100\n",
      "29400/29400 [==============================] - 1s - loss: 0.0335 - acc: 0.9947 - val_loss: 0.1429 - val_acc: 0.9612\n",
      "Epoch 82/100\n",
      "29400/29400 [==============================] - 1s - loss: 0.0331 - acc: 0.9949 - val_loss: 0.1426 - val_acc: 0.9619\n",
      "Epoch 83/100\n",
      "29400/29400 [==============================] - 1s - loss: 0.0326 - acc: 0.9950 - val_loss: 0.1428 - val_acc: 0.9613\n",
      "Epoch 84/100\n",
      "29400/29400 [==============================] - 1s - loss: 0.0321 - acc: 0.9951 - val_loss: 0.1426 - val_acc: 0.9616\n",
      "Epoch 85/100\n",
      "29400/29400 [==============================] - 1s - loss: 0.0316 - acc: 0.9953 - val_loss: 0.1426 - val_acc: 0.9617\n",
      "Epoch 86/100\n",
      "29400/29400 [==============================] - 1s - loss: 0.0312 - acc: 0.9956 - val_loss: 0.1424 - val_acc: 0.9617\n",
      "Epoch 87/100\n",
      "29400/29400 [==============================] - 1s - loss: 0.0308 - acc: 0.9956 - val_loss: 0.1423 - val_acc: 0.9615\n",
      "Epoch 88/100\n",
      "29400/29400 [==============================] - 1s - loss: 0.0304 - acc: 0.9958 - val_loss: 0.1422 - val_acc: 0.9618\n",
      "Epoch 89/100\n",
      "29400/29400 [==============================] - 1s - loss: 0.0299 - acc: 0.9959 - val_loss: 0.1420 - val_acc: 0.9617\n",
      "Epoch 90/100\n",
      "29400/29400 [==============================] - 1s - loss: 0.0295 - acc: 0.9959 - val_loss: 0.1419 - val_acc: 0.9617\n",
      "Epoch 91/100\n",
      "29400/29400 [==============================] - 1s - loss: 0.0291 - acc: 0.9961 - val_loss: 0.1419 - val_acc: 0.9619\n",
      "Epoch 92/100\n",
      "29400/29400 [==============================] - 1s - loss: 0.0288 - acc: 0.9961 - val_loss: 0.1418 - val_acc: 0.9621\n",
      "Epoch 93/100\n",
      "29400/29400 [==============================] - 1s - loss: 0.0284 - acc: 0.9963 - val_loss: 0.1418 - val_acc: 0.9619\n",
      "Epoch 94/100\n",
      "29400/29400 [==============================] - 1s - loss: 0.0280 - acc: 0.9964 - val_loss: 0.1419 - val_acc: 0.9618\n",
      "Epoch 95/100\n",
      "29400/29400 [==============================] - 1s - loss: 0.0277 - acc: 0.9966 - val_loss: 0.1416 - val_acc: 0.9618\n",
      "Epoch 96/100\n",
      "29400/29400 [==============================] - 1s - loss: 0.0273 - acc: 0.9969 - val_loss: 0.1416 - val_acc: 0.9616\n",
      "Epoch 97/100\n",
      "29400/29400 [==============================] - 1s - loss: 0.0270 - acc: 0.9967 - val_loss: 0.1416 - val_acc: 0.9619\n",
      "Epoch 98/100\n",
      "29400/29400 [==============================] - 1s - loss: 0.0266 - acc: 0.9968 - val_loss: 0.1414 - val_acc: 0.9619\n",
      "Epoch 99/100\n",
      "29400/29400 [==============================] - 1s - loss: 0.0263 - acc: 0.9970 - val_loss: 0.1416 - val_acc: 0.9619\n",
      "Epoch 100/100\n",
      "29400/29400 [==============================] - 1s - loss: 0.0260 - acc: 0.9969 - val_loss: 0.1414 - val_acc: 0.9619\n"
     ]
    },
    {
     "data": {
      "text/plain": [
       "<keras.callbacks.History at 0x128f80710>"
      ]
     },
     "execution_count": 45,
     "metadata": {},
     "output_type": "execute_result"
    }
   ],
   "source": [
    "#Sale thing using Keras (keras.io)\n",
    "from keras.layers import Dense, Activation, Dropout\n",
    "from keras.models import Model, Sequential\n",
    "from keras.optimizers import SGD\n",
    "\n",
    "# Keras is based on a Sequential model (we pass a list of layers to the constructor)\n",
    "kerasNet1 = Sequential([\n",
    "        Dense(200, batch_input_shape=(None,784)), #None means batch of any size\n",
    "        Activation('relu'), # C'est quoi ?\n",
    "        Dense(10),\n",
    "        Activation('softmax'),\n",
    "    ])\n",
    "\n",
    "sgd = SGD(lr=0.001, decay=1e-6, momentum=0.9, nesterov=True)\n",
    "\n",
    "# Configuring the learning process\n",
    "kerasNet1.compile(optimizer=sgd,\n",
    "                  loss='categorical_crossentropy',\n",
    "                  metrics=['accuracy'])\n",
    "\n",
    "train = train.reshape(-1, 784)\n",
    "\n",
    "# Keras needs us to convert our labels to binary formats (but provides a super tool for it :))\n",
    "from keras.utils.np_utils import to_categorical\n",
    "t_binary_labels = to_categorical(t_labels)\n",
    "v_binary_labels = to_categorical(v_labels)\n",
    "\n",
    "# training the NN\n",
    "kerasNet1.fit(train, t_binary_labels, nb_epoch=100, batch_size=100, validation_data=(val, v_binary_labels))"
   ]
  },
  {
   "cell_type": "code",
   "execution_count": 43,
   "metadata": {
    "collapsed": false
   },
   "outputs": [
    {
     "ename": "ValueError",
     "evalue": "Can't handle mix of binary and continuous",
     "output_type": "error",
     "traceback": [
      "\u001b[0;31m---------------------------------------------------------------------------\u001b[0m",
      "\u001b[0;31mValueError\u001b[0m                                Traceback (most recent call last)",
      "\u001b[0;32m<ipython-input-43-7454e132188a>\u001b[0m in \u001b[0;36m<module>\u001b[0;34m()\u001b[0m\n\u001b[1;32m      7\u001b[0m \u001b[0mv_binary_labels\u001b[0m \u001b[0;34m=\u001b[0m \u001b[0mto_categorical\u001b[0m\u001b[0;34m(\u001b[0m\u001b[0mv_labels\u001b[0m\u001b[0;34m)\u001b[0m\u001b[0;34m\u001b[0m\u001b[0m\n\u001b[1;32m      8\u001b[0m \u001b[0;32mfor\u001b[0m \u001b[0mi\u001b[0m \u001b[0;32min\u001b[0m \u001b[0mrange\u001b[0m\u001b[0;34m(\u001b[0m\u001b[0;36m10\u001b[0m\u001b[0;34m)\u001b[0m\u001b[0;34m:\u001b[0m\u001b[0;34m\u001b[0m\u001b[0m\n\u001b[0;32m----> 9\u001b[0;31m     \u001b[0mf1_score\u001b[0m\u001b[0;34m(\u001b[0m\u001b[0mv_binary_labels\u001b[0m\u001b[0;34m[\u001b[0m\u001b[0;34m:\u001b[0m\u001b[0;34m,\u001b[0m\u001b[0mi\u001b[0m\u001b[0;34m]\u001b[0m\u001b[0;34m,\u001b[0m \u001b[0mprediction\u001b[0m\u001b[0;34m[\u001b[0m\u001b[0;34m:\u001b[0m\u001b[0;34m,\u001b[0m\u001b[0mi\u001b[0m\u001b[0;34m]\u001b[0m\u001b[0;34m)\u001b[0m\u001b[0;34m\u001b[0m\u001b[0m\n\u001b[0m\u001b[1;32m     10\u001b[0m \u001b[0;34m\u001b[0m\u001b[0m\n",
      "\u001b[0;32m/Users/florentpajot/anaconda/lib/python2.7/site-packages/sklearn/metrics/classification.pyc\u001b[0m in \u001b[0;36mf1_score\u001b[0;34m(y_true, y_pred, labels, pos_label, average, sample_weight)\u001b[0m\n\u001b[1;32m    637\u001b[0m     return fbeta_score(y_true, y_pred, 1, labels=labels,\n\u001b[1;32m    638\u001b[0m                        \u001b[0mpos_label\u001b[0m\u001b[0;34m=\u001b[0m\u001b[0mpos_label\u001b[0m\u001b[0;34m,\u001b[0m \u001b[0maverage\u001b[0m\u001b[0;34m=\u001b[0m\u001b[0maverage\u001b[0m\u001b[0;34m,\u001b[0m\u001b[0;34m\u001b[0m\u001b[0m\n\u001b[0;32m--> 639\u001b[0;31m                        sample_weight=sample_weight)\n\u001b[0m\u001b[1;32m    640\u001b[0m \u001b[0;34m\u001b[0m\u001b[0m\n\u001b[1;32m    641\u001b[0m \u001b[0;34m\u001b[0m\u001b[0m\n",
      "\u001b[0;32m/Users/florentpajot/anaconda/lib/python2.7/site-packages/sklearn/metrics/classification.pyc\u001b[0m in \u001b[0;36mfbeta_score\u001b[0;34m(y_true, y_pred, beta, labels, pos_label, average, sample_weight)\u001b[0m\n\u001b[1;32m    754\u001b[0m                                                  \u001b[0maverage\u001b[0m\u001b[0;34m=\u001b[0m\u001b[0maverage\u001b[0m\u001b[0;34m,\u001b[0m\u001b[0;34m\u001b[0m\u001b[0m\n\u001b[1;32m    755\u001b[0m                                                  \u001b[0mwarn_for\u001b[0m\u001b[0;34m=\u001b[0m\u001b[0;34m(\u001b[0m\u001b[0;34m'f-score'\u001b[0m\u001b[0;34m,\u001b[0m\u001b[0;34m)\u001b[0m\u001b[0;34m,\u001b[0m\u001b[0;34m\u001b[0m\u001b[0m\n\u001b[0;32m--> 756\u001b[0;31m                                                  sample_weight=sample_weight)\n\u001b[0m\u001b[1;32m    757\u001b[0m     \u001b[0;32mreturn\u001b[0m \u001b[0mf\u001b[0m\u001b[0;34m\u001b[0m\u001b[0m\n\u001b[1;32m    758\u001b[0m \u001b[0;34m\u001b[0m\u001b[0m\n",
      "\u001b[0;32m/Users/florentpajot/anaconda/lib/python2.7/site-packages/sklearn/metrics/classification.pyc\u001b[0m in \u001b[0;36mprecision_recall_fscore_support\u001b[0;34m(y_true, y_pred, beta, labels, pos_label, average, warn_for, sample_weight)\u001b[0m\n\u001b[1;32m    954\u001b[0m         \u001b[0;32mraise\u001b[0m \u001b[0mValueError\u001b[0m\u001b[0;34m(\u001b[0m\u001b[0;34m\"beta should be >0 in the F-beta score\"\u001b[0m\u001b[0;34m)\u001b[0m\u001b[0;34m\u001b[0m\u001b[0m\n\u001b[1;32m    955\u001b[0m \u001b[0;34m\u001b[0m\u001b[0m\n\u001b[0;32m--> 956\u001b[0;31m     \u001b[0my_type\u001b[0m\u001b[0;34m,\u001b[0m \u001b[0my_true\u001b[0m\u001b[0;34m,\u001b[0m \u001b[0my_pred\u001b[0m \u001b[0;34m=\u001b[0m \u001b[0m_check_targets\u001b[0m\u001b[0;34m(\u001b[0m\u001b[0my_true\u001b[0m\u001b[0;34m,\u001b[0m \u001b[0my_pred\u001b[0m\u001b[0;34m)\u001b[0m\u001b[0;34m\u001b[0m\u001b[0m\n\u001b[0m\u001b[1;32m    957\u001b[0m     \u001b[0mpresent_labels\u001b[0m \u001b[0;34m=\u001b[0m \u001b[0munique_labels\u001b[0m\u001b[0;34m(\u001b[0m\u001b[0my_true\u001b[0m\u001b[0;34m,\u001b[0m \u001b[0my_pred\u001b[0m\u001b[0;34m)\u001b[0m\u001b[0;34m\u001b[0m\u001b[0m\n\u001b[1;32m    958\u001b[0m \u001b[0;34m\u001b[0m\u001b[0m\n",
      "\u001b[0;32m/Users/florentpajot/anaconda/lib/python2.7/site-packages/sklearn/metrics/classification.pyc\u001b[0m in \u001b[0;36m_check_targets\u001b[0;34m(y_true, y_pred)\u001b[0m\n\u001b[1;32m     80\u001b[0m     \u001b[0;32mif\u001b[0m \u001b[0mlen\u001b[0m\u001b[0;34m(\u001b[0m\u001b[0my_type\u001b[0m\u001b[0;34m)\u001b[0m \u001b[0;34m>\u001b[0m \u001b[0;36m1\u001b[0m\u001b[0;34m:\u001b[0m\u001b[0;34m\u001b[0m\u001b[0m\n\u001b[1;32m     81\u001b[0m         raise ValueError(\"Can't handle mix of {0} and {1}\"\n\u001b[0;32m---> 82\u001b[0;31m                          \"\".format(type_true, type_pred))\n\u001b[0m\u001b[1;32m     83\u001b[0m \u001b[0;34m\u001b[0m\u001b[0m\n\u001b[1;32m     84\u001b[0m     \u001b[0;31m# We can't have more than one value on y_type => The set is no more needed\u001b[0m\u001b[0;34m\u001b[0m\u001b[0;34m\u001b[0m\u001b[0m\n",
      "\u001b[0;31mValueError\u001b[0m: Can't handle mix of binary and continuous"
     ]
    }
   ],
   "source": [
    "# Prediction sur validation\n",
    "val = val.reshape(-1, 784)\n",
    "prediction = kerasNet1.predict(val, r)\n",
    "\n",
    "from sklearn.metrics import f1_score\n",
    "\n",
    "v_binary_labels = to_categorical(v_labels)\n",
    "for i in range(10):\n",
    "    f1_score(v_binary_labels[:,i], prediction[:,i])\n",
    "\n"
   ]
  },
  {
   "cell_type": "code",
   "execution_count": 46,
   "metadata": {
    "collapsed": false
   },
   "outputs": [
    {
     "ename": "AttributeError",
     "evalue": "'Sequential' object has no attribute 'history'",
     "output_type": "error",
     "traceback": [
      "\u001b[0;31m---------------------------------------------------------------------------\u001b[0m",
      "\u001b[0;31mAttributeError\u001b[0m                            Traceback (most recent call last)",
      "\u001b[0;32m<ipython-input-46-141e897a5894>\u001b[0m in \u001b[0;36m<module>\u001b[0;34m()\u001b[0m\n\u001b[0;32m----> 1\u001b[0;31m \u001b[0mkerasNet1\u001b[0m\u001b[0;34m.\u001b[0m\u001b[0mhistory\u001b[0m\u001b[0;34m\u001b[0m\u001b[0m\n\u001b[0m",
      "\u001b[0;31mAttributeError\u001b[0m: 'Sequential' object has no attribute 'history'"
     ]
    }
   ],
   "source": [
    "kerasNet1.history"
   ]
  },
  {
   "cell_type": "code",
   "execution_count": null,
   "metadata": {
    "collapsed": true
   },
   "outputs": [],
   "source": []
  }
 ],
 "metadata": {
  "kernelspec": {
   "display_name": "Python 2",
   "language": "python",
   "name": "python2"
  },
  "language_info": {
   "codemirror_mode": {
    "name": "ipython",
    "version": 2
   },
   "file_extension": ".py",
   "mimetype": "text/x-python",
   "name": "python",
   "nbconvert_exporter": "python",
   "pygments_lexer": "ipython2",
   "version": "2.7.10"
  }
 },
 "nbformat": 4,
 "nbformat_minor": 0
}
