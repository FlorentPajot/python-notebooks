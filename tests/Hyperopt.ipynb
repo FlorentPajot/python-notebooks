{
 "cells": [
  {
   "cell_type": "markdown",
   "metadata": {},
   "source": [
    "# Hyperopt test\n",
    "## How to use hyperopt to optimize hyperparameters\n",
    "### @author: FlorentPajot\n",
    "### @version: 1.0\n",
    "### @date: 15/04/2016"
   ]
  },
  {
   "cell_type": "code",
   "execution_count": 4,
   "metadata": {
    "collapsed": false
   },
   "outputs": [
    {
     "name": "stdout",
     "output_type": "stream",
     "text": [
      "{'x': 0.000269455723739237}\n"
     ]
    }
   ],
   "source": [
    "import pymango\n",
    "from hyperopt import fmin, tpe, hp\n",
    "best = fmin( # fonction de minimization\n",
    "    fn=lambda x: x, # fonction à miinimizer\n",
    "    space=hp.uniform('x', 0, 1), # le search space avec hp pour définir un segment pour la variable x\n",
    "    algo=tpe.suggest, # l'algo de recherche, ici tpe qui signifie tree of Parzen Estimators, ça aurait pu être hypertopt.random\n",
    "    max_evals=100) # le nombre max d'itérations\n",
    "print best"
   ]
  },
  {
   "cell_type": "code",
   "execution_count": 6,
   "metadata": {
    "collapsed": false
   },
   "outputs": [
    {
     "name": "stdout",
     "output_type": "stream",
     "text": [
      "{'x': 0.9994688845461694}\n"
     ]
    }
   ],
   "source": [
    "best = fmin(\n",
    "    fn=lambda x: (x-1)**2,\n",
    "    space=hp.uniform('x', -2, 2),\n",
    "    algo=tpe.suggest,\n",
    "    max_evals=1000)\n",
    "print best # on s'attend à trouver 1"
   ]
  },
  {
   "cell_type": "code",
   "execution_count": 9,
   "metadata": {
    "collapsed": false
   },
   "outputs": [
    {
     "name": "stdout",
     "output_type": "stream",
     "text": [
      "{'x': 4.493106844780035}\n"
     ]
    }
   ],
   "source": [
    "# Méthode visiblement pas adaptée aux fonctions avec beaucoup de minimum locaux\n",
    "import math\n",
    "from __future__ import division\n",
    "best = fmin(\n",
    "    fn=lambda x: math.sin(x)/x,\n",
    "    space=hp.uniform('x', -5, 5),\n",
    "    algo=tpe.suggest,\n",
    "    max_evals=1000)\n",
    "print best # on s'attend à trouver 0, il faut mettre beaucoup d'itérations pour ne pas tomber dans un minimum local"
   ]
  },
  {
   "cell_type": "code",
   "execution_count": 11,
   "metadata": {
    "collapsed": false
   },
   "outputs": [
    {
     "name": "stdout",
     "output_type": "stream",
     "text": [
      "{'y': 0.22453883206599157, 'x': 0.19836288166957772, 'name': 'bob'}\n"
     ]
    }
   ],
   "source": [
    "# Optimiser le search space avec hp.choice(label, options) hp.normal(label, mu, sigma) et hp;uniforme(label, low, high)\n",
    "import hyperopt.pyll.stochastic\n",
    "\n",
    "space = {\n",
    "    'x': hp.uniform('x', 0, 1), # on pioche x de manière uniforme sur le segment [0,1]\n",
    "    'y': hp.normal('y', 0, 1), # on pioche y parmi \n",
    "    'name': hp.choice('name', ['alice', 'bob']), # on pioche name parmi un liste de catégories\n",
    "}\n",
    "\n",
    "print hyperopt.pyll.stochastic.sample(space)"
   ]
  },
  {
   "cell_type": "code",
   "execution_count": 12,
   "metadata": {
    "collapsed": false
   },
   "outputs": [
    {
     "name": "stdout",
     "output_type": "stream",
     "text": [
      "0 switch\n",
      "1   hyperopt_param\n",
      "2     Literal{a}\n",
      "3     randint\n",
      "4       Literal{2}\n",
      "5   pos_args\n",
      "6     Literal{case 1}\n",
      "7     add\n",
      "8       Literal{1}\n",
      "9       float\n",
      "10         hyperopt_param\n",
      "11           Literal{c1}\n",
      "12           lognormal\n",
      "13             Literal{0}\n",
      "14             Literal{1}\n",
      "15   pos_args\n",
      "16     Literal{case 2}\n",
      "17     float\n",
      "18       hyperopt_param\n",
      "19         Literal{c2}\n",
      "20         uniform\n",
      "21           Literal{-10}\n",
      "22           Literal{10}\n",
      "('case 2', 9.046821176190303)\n"
     ]
    }
   ],
   "source": [
    "from hyperopt import hp\n",
    "space = hp.choice('a', # on va piocher a dans l'un ou l'autre des espaces suivants\n",
    "    [\n",
    "        ('case 1', 1 + hp.lognormal('c1', 0, 1)),\n",
    "        ('case 2', hp.uniform('c2', -10, 10))\n",
    "    ])\n",
    "print space\n",
    "print hyperopt.pyll.stochastic.sample(space) # la méthode \"sample\" permet d'évaluer un exemple d'hypers paramètres"
   ]
  },
  {
   "cell_type": "code",
   "execution_count": 21,
   "metadata": {
    "collapsed": false
   },
   "outputs": [
    {
     "name": "stdout",
     "output_type": "stream",
     "text": [
      "best: {'x': -0.0014282194975243833}\n",
      "trials:\n",
      "{'refresh_time': None, 'book_time': None, 'misc': {'tid': 0, 'idxs': {'x': [0]}, 'cmd': ('domain_attachment', 'FMinIter_Domain'), 'vals': {'x': [1.9646918559786162]}, 'workdir': None}, 'state': 2, 'tid': 0, 'exp_key': None, 'version': 0, 'result': {'status': 'ok', 'loss': 3.8600140889486996}, 'owner': None, 'spec': None}\n",
      "{'refresh_time': None, 'book_time': None, 'misc': {'tid': 1, 'idxs': {'x': [1]}, 'cmd': ('domain_attachment', 'FMinIter_Domain'), 'vals': {'x': [-3.9393509404526728]}, 'workdir': None}, 'state': 2, 'tid': 1, 'exp_key': None, 'version': 0, 'result': {'status': 'ok', 'loss': 15.518485832045357}, 'owner': None, 'spec': None}\n"
     ]
    }
   ],
   "source": [
    "# Pour voir ce qu'il se passe dans hyperopt\n",
    "from hyperopt import fmin, tpe, hp, STATUS_OK, Trials\n",
    "\n",
    "fspace = {\n",
    "    'x': hp.uniform('x', -5, 5)\n",
    "}\n",
    "\n",
    "def f(params):\n",
    "    x = params['x']\n",
    "    val = x**2\n",
    "    return {'loss': val, 'status': STATUS_OK}\n",
    "\n",
    "trials = Trials() #Permet de stocker les états intermédiaire de fmin\n",
    "best = fmin(fn=f, space=fspace, algo=tpe.suggest, max_evals=500, trials=trials)\n",
    "\n",
    "print 'best:', best\n",
    "\n",
    "print 'trials:'\n",
    "for trial in trials.trials[:2]:\n",
    "    print trial"
   ]
  },
  {
   "cell_type": "code",
   "execution_count": 22,
   "metadata": {
    "collapsed": false
   },
   "outputs": [
    {
     "data": {
      "text/plain": [
       "<matplotlib.text.Text at 0x896e7b8>"
      ]
     },
     "execution_count": 22,
     "metadata": {},
     "output_type": "execute_result"
    },
    {
     "data": {
      "image/png": "[encoded data removed]",
      "text/plain": [
       "<matplotlib.figure.Figure at 0x871b198>"
      ]
     },
     "metadata": {},
     "output_type": "display_data"
    }
   ],
   "source": [
    "# On peut voir que hyperopt va tester des valeurs de plus en plus centrée autour de l'optimal préssenti\n",
    "from matplotlib import pyplot as plt\n",
    "%matplotlib inline\n",
    "f, ax = plt.subplots(1)\n",
    "xs = [t['tid'] for t in trials.trials] # tid est l'id du step que l'on retrouve dans trials\n",
    "ys = [t['misc']['vals']['x'] for t in trials.trials] # la valeur x évaluée pour le step en question\n",
    "ax.set_xlim(xs[0], xs[-1])\n",
    "ax.scatter(xs, ys, s=20, linewidth=0.01, alpha=0.75)\n",
    "ax.set_title('$x$ $vs$ $t$ ', fontsize=18)\n",
    "ax.set_xlabel('$t$', fontsize=16)\n",
    "ax.set_ylabel('$x$', fontsize=16)"
   ]
  },
  {
   "cell_type": "code",
   "execution_count": 23,
   "metadata": {
    "collapsed": false
   },
   "outputs": [
    {
     "data": {
      "text/plain": [
       "<matplotlib.text.Text at 0x8a8b400>"
      ]
     },
     "execution_count": 23,
     "metadata": {},
     "output_type": "execute_result"
    },
    {
     "data": {
      "image/png": "[encoded data removed]",
      "text/plain": [
       "<matplotlib.figure.Figure at 0x7f2bf60>"
      ]
     },
     "metadata": {},
     "output_type": "display_data"
    }
   ],
   "source": [
    "# On peut aussi afficher la valeur de l'erreur en fonction des x\n",
    "f, ax = plt.subplots(1)\n",
    "xs = [t['misc']['vals']['x'] for t in trials.trials]\n",
    "ys = [t['result']['loss'] for t in trials.trials]\n",
    "ax.scatter(xs, ys, s=20, linewidth=0.01, alpha=0.75)\n",
    "ax.set_title('$val$ $vs$ $x$ ', fontsize=18)\n",
    "ax.set_xlabel('$x$', fontsize=16)\n",
    "ax.set_ylabel('$val$', fontsize=16)"
   ]
  },
  {
   "cell_type": "code",
   "execution_count": null,
   "metadata": {
    "collapsed": true
   },
   "outputs": [],
   "source": []
  }
 ],
 "metadata": {
  "kernelspec": {
   "display_name": "Python 2",
   "language": "python",
   "name": "python2"
  },
  "language_info": {
   "codemirror_mode": {
    "name": "ipython",
    "version": 2
   },
   "file_extension": ".py",
   "mimetype": "text/x-python",
   "name": "python",
   "nbconvert_exporter": "python",
   "pygments_lexer": "ipython2",
   "version": "2.7.11"
  }
 },
 "nbformat": 4,
 "nbformat_minor": 0
}
